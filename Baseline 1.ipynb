{
  "nbformat": 4,
  "nbformat_minor": 0,
  "metadata": {
    "colab": {
      "name": "Price Expecting of Crypto Currency",
      "provenance": [],
      "machine_shape": "hm",
      "collapsed_sections": [],
      "mount_file_id": "1Lp2_CiRcO2QIukmUGPU_UHOpspuI-mbe",
      "authorship_tag": "ABX9TyMbJTO/QW5awiVnB6z1CNQF",
      "include_colab_link": true
    },
    "kernelspec": {
      "name": "python3",
      "display_name": "Python 3"
    },
    "language_info": {
      "name": "python"
    }
  },
  "cells": [
    {
      "cell_type": "markdown",
      "metadata": {
        "id": "view-in-github",
        "colab_type": "text"
      },
      "source": [
        "<a href=\"https://colab.research.google.com/github/menguri/Forcasting_cryptocurrencies/blob/main/Price_Expecting_of_Crypto_Currency.ipynb\" target=\"_parent\"><img src=\"https://colab.research.google.com/assets/colab-badge.svg\" alt=\"Open In Colab\"/></a>"
      ]
    },
    {
      "cell_type": "markdown",
      "source": [
        "\n",
        "\n",
        " # **I. Data 준비**\n",
        "\n",
        "---\n",
        "\n"
      ],
      "metadata": {
        "id": "5glwKjaBQfsI"
      }
    },
    {
      "cell_type": "code",
      "source": [
        "# import Library\n",
        "import pandas as pd\n",
        "import numpy as np\n",
        "import matplotlib.pyplot as plt\n",
        "import seaborn as sns\n",
        "%matplotlib inline\n",
        "from IPython.display import Image\n",
        "import time\n",
        "from datetime import datetime\n",
        "\n",
        "import warnings\n",
        "warnings.filterwarnings(\"ignore\", category=FutureWarning)\n",
        "warnings.filterwarnings(\"ignore\", category=DeprecationWarning)\n",
        "\n",
        "from google.colab import drive\n",
        "drive.mount('/content/drive')"
      ],
      "metadata": {
        "id": "YiEuHRGDOahc",
        "colab": {
          "base_uri": "https://localhost:8080/"
        },
        "outputId": "5e3c588e-3a04-4c27-d3ea-3d36543b96c5"
      },
      "execution_count": null,
      "outputs": [
        {
          "output_type": "stream",
          "name": "stdout",
          "text": [
            "Drive already mounted at /content/drive; to attempt to forcibly remount, call drive.mount(\"/content/drive\", force_remount=True).\n"
          ]
        }
      ]
    },
    {
      "cell_type": "code",
      "source": [
        "# font download\n",
        "!sudo apt-get install -y fonts-nanum\n",
        "!sudo fc-cache -fv\n",
        "!rm ~/.cache/matplotlib -rf\n",
        "plt.rc('font', family='NanumBarunGothic') "
      ],
      "metadata": {
        "id": "xpj8YmsiQW_w",
        "colab": {
          "base_uri": "https://localhost:8080/"
        },
        "outputId": "49d612d7-b52b-4882-af0a-dccba8665648"
      },
      "execution_count": null,
      "outputs": [
        {
          "output_type": "stream",
          "name": "stdout",
          "text": [
            "Reading package lists... Done\n",
            "Building dependency tree       \n",
            "Reading state information... Done\n",
            "The following NEW packages will be installed:\n",
            "  fonts-nanum\n",
            "0 upgraded, 1 newly installed, 0 to remove and 37 not upgraded.\n",
            "Need to get 9,604 kB of archives.\n",
            "After this operation, 29.5 MB of additional disk space will be used.\n",
            "Get:1 http://archive.ubuntu.com/ubuntu bionic/universe amd64 fonts-nanum all 20170925-1 [9,604 kB]\n",
            "Fetched 9,604 kB in 1s (6,734 kB/s)\n",
            "debconf: unable to initialize frontend: Dialog\n",
            "debconf: (No usable dialog-like program is installed, so the dialog based frontend cannot be used. at /usr/share/perl5/Debconf/FrontEnd/Dialog.pm line 76, <> line 1.)\n",
            "debconf: falling back to frontend: Readline\n",
            "debconf: unable to initialize frontend: Readline\n",
            "debconf: (This frontend requires a controlling tty.)\n",
            "debconf: falling back to frontend: Teletype\n",
            "dpkg-preconfigure: unable to re-open stdin: \n",
            "Selecting previously unselected package fonts-nanum.\n",
            "(Reading database ... 155225 files and directories currently installed.)\n",
            "Preparing to unpack .../fonts-nanum_20170925-1_all.deb ...\n",
            "Unpacking fonts-nanum (20170925-1) ...\n",
            "Setting up fonts-nanum (20170925-1) ...\n",
            "Processing triggers for fontconfig (2.12.6-0ubuntu2) ...\n",
            "/usr/share/fonts: caching, new cache contents: 0 fonts, 1 dirs\n",
            "/usr/share/fonts/truetype: caching, new cache contents: 0 fonts, 3 dirs\n",
            "/usr/share/fonts/truetype/humor-sans: caching, new cache contents: 1 fonts, 0 dirs\n",
            "/usr/share/fonts/truetype/liberation: caching, new cache contents: 16 fonts, 0 dirs\n",
            "/usr/share/fonts/truetype/nanum: caching, new cache contents: 10 fonts, 0 dirs\n",
            "/usr/local/share/fonts: caching, new cache contents: 0 fonts, 0 dirs\n",
            "/root/.local/share/fonts: skipping, no such directory\n",
            "/root/.fonts: skipping, no such directory\n",
            "/var/cache/fontconfig: cleaning cache directory\n",
            "/root/.cache/fontconfig: not cleaning non-existent cache directory\n",
            "/root/.fontconfig: not cleaning non-existent cache directory\n",
            "fc-cache: succeeded\n"
          ]
        }
      ]
    },
    {
      "cell_type": "code",
      "source": [
        "# data loading\n",
        "# 후에 Kaggle Notebook으로 제출할 땐 module 사용해서 데이터 로딩해야 함.\n",
        "train= pd.read_csv('/content/drive/MyDrive/Data Science/Colab Notebooks/G-research/G-research/train.csv')\n",
        "# example_sample_submission = pd.read_csv('/content/drive/MyDrive/Data Science/Colab Notebooks/G-research/G-research (1)/example_sample_submission.csv')\n",
        "# example_test = pd.read_csv('/content/drive/MyDrive/Data Science/Colab Notebooks/G-research/G-research (1)/example_test.csv')\n",
        "# supplemental_train = pd.read_csv('/content/drive/MyDrive/Data Science/Colab Notebooks/G-research/G-research (1)/supplemental_train.csv')\n",
        "\n",
        "\n",
        "# 결측치를 모두 제거한 train 데이터셋 부르기\n",
        "\n",
        "#train = pd.read_csv('/content/drive/MyDrive/Data Science/Colab Notebooks/G-research/G-research/train_new.csv', encoding='cp949')\n",
        "asset_details = pd.read_csv('/content/drive/MyDrive/Data Science/Colab Notebooks/G-research/G-research/asset_details.csv')\n",
        "print(train.info())\n",
        "train.head()\n"
      ],
      "metadata": {
        "id": "ZFj0t_wZQxJF",
        "colab": {
          "base_uri": "https://localhost:8080/",
          "height": 537
        },
        "outputId": "f508faff-dac6-4033-82d1-5a9b27c7e549"
      },
      "execution_count": null,
      "outputs": [
        {
          "output_type": "stream",
          "name": "stdout",
          "text": [
            "<class 'pandas.core.frame.DataFrame'>\n",
            "RangeIndex: 24236806 entries, 0 to 24236805\n",
            "Data columns (total 10 columns):\n",
            " #   Column     Dtype  \n",
            "---  ------     -----  \n",
            " 0   timestamp  int64  \n",
            " 1   Asset_ID   int64  \n",
            " 2   Count      float64\n",
            " 3   Open       float64\n",
            " 4   High       float64\n",
            " 5   Low        float64\n",
            " 6   Close      float64\n",
            " 7   Volume     float64\n",
            " 8   VWAP       float64\n",
            " 9   Target     float64\n",
            "dtypes: float64(8), int64(2)\n",
            "memory usage: 1.8 GB\n",
            "None\n"
          ]
        },
        {
          "output_type": "execute_result",
          "data": {
            "text/html": [
              "\n",
              "  <div id=\"df-3ad46ea0-e7aa-4671-8a55-fa9ba48bb734\">\n",
              "    <div class=\"colab-df-container\">\n",
              "      <div>\n",
              "<style scoped>\n",
              "    .dataframe tbody tr th:only-of-type {\n",
              "        vertical-align: middle;\n",
              "    }\n",
              "\n",
              "    .dataframe tbody tr th {\n",
              "        vertical-align: top;\n",
              "    }\n",
              "\n",
              "    .dataframe thead th {\n",
              "        text-align: right;\n",
              "    }\n",
              "</style>\n",
              "<table border=\"1\" class=\"dataframe\">\n",
              "  <thead>\n",
              "    <tr style=\"text-align: right;\">\n",
              "      <th></th>\n",
              "      <th>timestamp</th>\n",
              "      <th>Asset_ID</th>\n",
              "      <th>Count</th>\n",
              "      <th>Open</th>\n",
              "      <th>High</th>\n",
              "      <th>Low</th>\n",
              "      <th>Close</th>\n",
              "      <th>Volume</th>\n",
              "      <th>VWAP</th>\n",
              "      <th>Target</th>\n",
              "    </tr>\n",
              "  </thead>\n",
              "  <tbody>\n",
              "    <tr>\n",
              "      <th>0</th>\n",
              "      <td>1514764860</td>\n",
              "      <td>2</td>\n",
              "      <td>40.0</td>\n",
              "      <td>2376.5800</td>\n",
              "      <td>2399.5000</td>\n",
              "      <td>2357.1400</td>\n",
              "      <td>2374.5900</td>\n",
              "      <td>19.233005</td>\n",
              "      <td>2373.116392</td>\n",
              "      <td>-0.004218</td>\n",
              "    </tr>\n",
              "    <tr>\n",
              "      <th>1</th>\n",
              "      <td>1514764860</td>\n",
              "      <td>0</td>\n",
              "      <td>5.0</td>\n",
              "      <td>8.5300</td>\n",
              "      <td>8.5300</td>\n",
              "      <td>8.5300</td>\n",
              "      <td>8.5300</td>\n",
              "      <td>78.380000</td>\n",
              "      <td>8.530000</td>\n",
              "      <td>-0.014399</td>\n",
              "    </tr>\n",
              "    <tr>\n",
              "      <th>2</th>\n",
              "      <td>1514764860</td>\n",
              "      <td>1</td>\n",
              "      <td>229.0</td>\n",
              "      <td>13835.1940</td>\n",
              "      <td>14013.8000</td>\n",
              "      <td>13666.1100</td>\n",
              "      <td>13850.1760</td>\n",
              "      <td>31.550062</td>\n",
              "      <td>13827.062093</td>\n",
              "      <td>-0.014643</td>\n",
              "    </tr>\n",
              "    <tr>\n",
              "      <th>3</th>\n",
              "      <td>1514764860</td>\n",
              "      <td>5</td>\n",
              "      <td>32.0</td>\n",
              "      <td>7.6596</td>\n",
              "      <td>7.6596</td>\n",
              "      <td>7.6567</td>\n",
              "      <td>7.6576</td>\n",
              "      <td>6626.713370</td>\n",
              "      <td>7.657713</td>\n",
              "      <td>-0.013922</td>\n",
              "    </tr>\n",
              "    <tr>\n",
              "      <th>4</th>\n",
              "      <td>1514764860</td>\n",
              "      <td>7</td>\n",
              "      <td>5.0</td>\n",
              "      <td>25.9200</td>\n",
              "      <td>25.9200</td>\n",
              "      <td>25.8740</td>\n",
              "      <td>25.8770</td>\n",
              "      <td>121.087310</td>\n",
              "      <td>25.891363</td>\n",
              "      <td>-0.008264</td>\n",
              "    </tr>\n",
              "  </tbody>\n",
              "</table>\n",
              "</div>\n",
              "      <button class=\"colab-df-convert\" onclick=\"convertToInteractive('df-3ad46ea0-e7aa-4671-8a55-fa9ba48bb734')\"\n",
              "              title=\"Convert this dataframe to an interactive table.\"\n",
              "              style=\"display:none;\">\n",
              "        \n",
              "  <svg xmlns=\"http://www.w3.org/2000/svg\" height=\"24px\"viewBox=\"0 0 24 24\"\n",
              "       width=\"24px\">\n",
              "    <path d=\"M0 0h24v24H0V0z\" fill=\"none\"/>\n",
              "    <path d=\"M18.56 5.44l.94 2.06.94-2.06 2.06-.94-2.06-.94-.94-2.06-.94 2.06-2.06.94zm-11 1L8.5 8.5l.94-2.06 2.06-.94-2.06-.94L8.5 2.5l-.94 2.06-2.06.94zm10 10l.94 2.06.94-2.06 2.06-.94-2.06-.94-.94-2.06-.94 2.06-2.06.94z\"/><path d=\"M17.41 7.96l-1.37-1.37c-.4-.4-.92-.59-1.43-.59-.52 0-1.04.2-1.43.59L10.3 9.45l-7.72 7.72c-.78.78-.78 2.05 0 2.83L4 21.41c.39.39.9.59 1.41.59.51 0 1.02-.2 1.41-.59l7.78-7.78 2.81-2.81c.8-.78.8-2.07 0-2.86zM5.41 20L4 18.59l7.72-7.72 1.47 1.35L5.41 20z\"/>\n",
              "  </svg>\n",
              "      </button>\n",
              "      \n",
              "  <style>\n",
              "    .colab-df-container {\n",
              "      display:flex;\n",
              "      flex-wrap:wrap;\n",
              "      gap: 12px;\n",
              "    }\n",
              "\n",
              "    .colab-df-convert {\n",
              "      background-color: #E8F0FE;\n",
              "      border: none;\n",
              "      border-radius: 50%;\n",
              "      cursor: pointer;\n",
              "      display: none;\n",
              "      fill: #1967D2;\n",
              "      height: 32px;\n",
              "      padding: 0 0 0 0;\n",
              "      width: 32px;\n",
              "    }\n",
              "\n",
              "    .colab-df-convert:hover {\n",
              "      background-color: #E2EBFA;\n",
              "      box-shadow: 0px 1px 2px rgba(60, 64, 67, 0.3), 0px 1px 3px 1px rgba(60, 64, 67, 0.15);\n",
              "      fill: #174EA6;\n",
              "    }\n",
              "\n",
              "    [theme=dark] .colab-df-convert {\n",
              "      background-color: #3B4455;\n",
              "      fill: #D2E3FC;\n",
              "    }\n",
              "\n",
              "    [theme=dark] .colab-df-convert:hover {\n",
              "      background-color: #434B5C;\n",
              "      box-shadow: 0px 1px 3px 1px rgba(0, 0, 0, 0.15);\n",
              "      filter: drop-shadow(0px 1px 2px rgba(0, 0, 0, 0.3));\n",
              "      fill: #FFFFFF;\n",
              "    }\n",
              "  </style>\n",
              "\n",
              "      <script>\n",
              "        const buttonEl =\n",
              "          document.querySelector('#df-3ad46ea0-e7aa-4671-8a55-fa9ba48bb734 button.colab-df-convert');\n",
              "        buttonEl.style.display =\n",
              "          google.colab.kernel.accessAllowed ? 'block' : 'none';\n",
              "\n",
              "        async function convertToInteractive(key) {\n",
              "          const element = document.querySelector('#df-3ad46ea0-e7aa-4671-8a55-fa9ba48bb734');\n",
              "          const dataTable =\n",
              "            await google.colab.kernel.invokeFunction('convertToInteractive',\n",
              "                                                     [key], {});\n",
              "          if (!dataTable) return;\n",
              "\n",
              "          const docLinkHtml = 'Like what you see? Visit the ' +\n",
              "            '<a target=\"_blank\" href=https://colab.research.google.com/notebooks/data_table.ipynb>data table notebook</a>'\n",
              "            + ' to learn more about interactive tables.';\n",
              "          element.innerHTML = '';\n",
              "          dataTable['output_type'] = 'display_data';\n",
              "          await google.colab.output.renderOutput(dataTable, element);\n",
              "          const docLink = document.createElement('div');\n",
              "          docLink.innerHTML = docLinkHtml;\n",
              "          element.appendChild(docLink);\n",
              "        }\n",
              "      </script>\n",
              "    </div>\n",
              "  </div>\n",
              "  "
            ],
            "text/plain": [
              "    timestamp  Asset_ID  Count  ...       Volume          VWAP    Target\n",
              "0  1514764860         2   40.0  ...    19.233005   2373.116392 -0.004218\n",
              "1  1514764860         0    5.0  ...    78.380000      8.530000 -0.014399\n",
              "2  1514764860         1  229.0  ...    31.550062  13827.062093 -0.014643\n",
              "3  1514764860         5   32.0  ...  6626.713370      7.657713 -0.013922\n",
              "4  1514764860         7    5.0  ...   121.087310     25.891363 -0.008264\n",
              "\n",
              "[5 rows x 10 columns]"
            ]
          },
          "metadata": {},
          "execution_count": 3
        }
      ]
    },
    {
      "cell_type": "code",
      "source": [
        "print(asset_details.info())\n",
        "asset_details = asset_details.sort_values(by=['Asset_ID'], axis=0, ascending=True)\n",
        "asset_details"
      ],
      "metadata": {
        "colab": {
          "base_uri": "https://localhost:8080/",
          "height": 690
        },
        "id": "nQbK6JPfb-LB",
        "outputId": "2313bba0-cd12-42a7-9b50-33c2ae2ae909"
      },
      "execution_count": null,
      "outputs": [
        {
          "output_type": "stream",
          "name": "stdout",
          "text": [
            "<class 'pandas.core.frame.DataFrame'>\n",
            "RangeIndex: 14 entries, 0 to 13\n",
            "Data columns (total 3 columns):\n",
            " #   Column      Non-Null Count  Dtype  \n",
            "---  ------      --------------  -----  \n",
            " 0   Asset_ID    14 non-null     int64  \n",
            " 1   Weight      14 non-null     float64\n",
            " 2   Asset_Name  14 non-null     object \n",
            "dtypes: float64(1), int64(1), object(1)\n",
            "memory usage: 464.0+ bytes\n",
            "None\n"
          ]
        },
        {
          "output_type": "execute_result",
          "data": {
            "text/html": [
              "\n",
              "  <div id=\"df-48aec32d-dac8-4cec-bfd1-a1cd819a765c\">\n",
              "    <div class=\"colab-df-container\">\n",
              "      <div>\n",
              "<style scoped>\n",
              "    .dataframe tbody tr th:only-of-type {\n",
              "        vertical-align: middle;\n",
              "    }\n",
              "\n",
              "    .dataframe tbody tr th {\n",
              "        vertical-align: top;\n",
              "    }\n",
              "\n",
              "    .dataframe thead th {\n",
              "        text-align: right;\n",
              "    }\n",
              "</style>\n",
              "<table border=\"1\" class=\"dataframe\">\n",
              "  <thead>\n",
              "    <tr style=\"text-align: right;\">\n",
              "      <th></th>\n",
              "      <th>Asset_ID</th>\n",
              "      <th>Weight</th>\n",
              "      <th>Asset_Name</th>\n",
              "    </tr>\n",
              "  </thead>\n",
              "  <tbody>\n",
              "    <tr>\n",
              "      <th>1</th>\n",
              "      <td>0</td>\n",
              "      <td>4.304065</td>\n",
              "      <td>Binance Coin</td>\n",
              "    </tr>\n",
              "    <tr>\n",
              "      <th>2</th>\n",
              "      <td>1</td>\n",
              "      <td>6.779922</td>\n",
              "      <td>Bitcoin</td>\n",
              "    </tr>\n",
              "    <tr>\n",
              "      <th>0</th>\n",
              "      <td>2</td>\n",
              "      <td>2.397895</td>\n",
              "      <td>Bitcoin Cash</td>\n",
              "    </tr>\n",
              "    <tr>\n",
              "      <th>10</th>\n",
              "      <td>3</td>\n",
              "      <td>4.406719</td>\n",
              "      <td>Cardano</td>\n",
              "    </tr>\n",
              "    <tr>\n",
              "      <th>13</th>\n",
              "      <td>4</td>\n",
              "      <td>3.555348</td>\n",
              "      <td>Dogecoin</td>\n",
              "    </tr>\n",
              "    <tr>\n",
              "      <th>3</th>\n",
              "      <td>5</td>\n",
              "      <td>1.386294</td>\n",
              "      <td>EOS.IO</td>\n",
              "    </tr>\n",
              "    <tr>\n",
              "      <th>5</th>\n",
              "      <td>6</td>\n",
              "      <td>5.894403</td>\n",
              "      <td>Ethereum</td>\n",
              "    </tr>\n",
              "    <tr>\n",
              "      <th>4</th>\n",
              "      <td>7</td>\n",
              "      <td>2.079442</td>\n",
              "      <td>Ethereum Classic</td>\n",
              "    </tr>\n",
              "    <tr>\n",
              "      <th>11</th>\n",
              "      <td>8</td>\n",
              "      <td>1.098612</td>\n",
              "      <td>IOTA</td>\n",
              "    </tr>\n",
              "    <tr>\n",
              "      <th>6</th>\n",
              "      <td>9</td>\n",
              "      <td>2.397895</td>\n",
              "      <td>Litecoin</td>\n",
              "    </tr>\n",
              "    <tr>\n",
              "      <th>12</th>\n",
              "      <td>10</td>\n",
              "      <td>1.098612</td>\n",
              "      <td>Maker</td>\n",
              "    </tr>\n",
              "    <tr>\n",
              "      <th>7</th>\n",
              "      <td>11</td>\n",
              "      <td>1.609438</td>\n",
              "      <td>Monero</td>\n",
              "    </tr>\n",
              "    <tr>\n",
              "      <th>9</th>\n",
              "      <td>12</td>\n",
              "      <td>2.079442</td>\n",
              "      <td>Stellar</td>\n",
              "    </tr>\n",
              "    <tr>\n",
              "      <th>8</th>\n",
              "      <td>13</td>\n",
              "      <td>1.791759</td>\n",
              "      <td>TRON</td>\n",
              "    </tr>\n",
              "  </tbody>\n",
              "</table>\n",
              "</div>\n",
              "      <button class=\"colab-df-convert\" onclick=\"convertToInteractive('df-48aec32d-dac8-4cec-bfd1-a1cd819a765c')\"\n",
              "              title=\"Convert this dataframe to an interactive table.\"\n",
              "              style=\"display:none;\">\n",
              "        \n",
              "  <svg xmlns=\"http://www.w3.org/2000/svg\" height=\"24px\"viewBox=\"0 0 24 24\"\n",
              "       width=\"24px\">\n",
              "    <path d=\"M0 0h24v24H0V0z\" fill=\"none\"/>\n",
              "    <path d=\"M18.56 5.44l.94 2.06.94-2.06 2.06-.94-2.06-.94-.94-2.06-.94 2.06-2.06.94zm-11 1L8.5 8.5l.94-2.06 2.06-.94-2.06-.94L8.5 2.5l-.94 2.06-2.06.94zm10 10l.94 2.06.94-2.06 2.06-.94-2.06-.94-.94-2.06-.94 2.06-2.06.94z\"/><path d=\"M17.41 7.96l-1.37-1.37c-.4-.4-.92-.59-1.43-.59-.52 0-1.04.2-1.43.59L10.3 9.45l-7.72 7.72c-.78.78-.78 2.05 0 2.83L4 21.41c.39.39.9.59 1.41.59.51 0 1.02-.2 1.41-.59l7.78-7.78 2.81-2.81c.8-.78.8-2.07 0-2.86zM5.41 20L4 18.59l7.72-7.72 1.47 1.35L5.41 20z\"/>\n",
              "  </svg>\n",
              "      </button>\n",
              "      \n",
              "  <style>\n",
              "    .colab-df-container {\n",
              "      display:flex;\n",
              "      flex-wrap:wrap;\n",
              "      gap: 12px;\n",
              "    }\n",
              "\n",
              "    .colab-df-convert {\n",
              "      background-color: #E8F0FE;\n",
              "      border: none;\n",
              "      border-radius: 50%;\n",
              "      cursor: pointer;\n",
              "      display: none;\n",
              "      fill: #1967D2;\n",
              "      height: 32px;\n",
              "      padding: 0 0 0 0;\n",
              "      width: 32px;\n",
              "    }\n",
              "\n",
              "    .colab-df-convert:hover {\n",
              "      background-color: #E2EBFA;\n",
              "      box-shadow: 0px 1px 2px rgba(60, 64, 67, 0.3), 0px 1px 3px 1px rgba(60, 64, 67, 0.15);\n",
              "      fill: #174EA6;\n",
              "    }\n",
              "\n",
              "    [theme=dark] .colab-df-convert {\n",
              "      background-color: #3B4455;\n",
              "      fill: #D2E3FC;\n",
              "    }\n",
              "\n",
              "    [theme=dark] .colab-df-convert:hover {\n",
              "      background-color: #434B5C;\n",
              "      box-shadow: 0px 1px 3px 1px rgba(0, 0, 0, 0.15);\n",
              "      filter: drop-shadow(0px 1px 2px rgba(0, 0, 0, 0.3));\n",
              "      fill: #FFFFFF;\n",
              "    }\n",
              "  </style>\n",
              "\n",
              "      <script>\n",
              "        const buttonEl =\n",
              "          document.querySelector('#df-48aec32d-dac8-4cec-bfd1-a1cd819a765c button.colab-df-convert');\n",
              "        buttonEl.style.display =\n",
              "          google.colab.kernel.accessAllowed ? 'block' : 'none';\n",
              "\n",
              "        async function convertToInteractive(key) {\n",
              "          const element = document.querySelector('#df-48aec32d-dac8-4cec-bfd1-a1cd819a765c');\n",
              "          const dataTable =\n",
              "            await google.colab.kernel.invokeFunction('convertToInteractive',\n",
              "                                                     [key], {});\n",
              "          if (!dataTable) return;\n",
              "\n",
              "          const docLinkHtml = 'Like what you see? Visit the ' +\n",
              "            '<a target=\"_blank\" href=https://colab.research.google.com/notebooks/data_table.ipynb>data table notebook</a>'\n",
              "            + ' to learn more about interactive tables.';\n",
              "          element.innerHTML = '';\n",
              "          dataTable['output_type'] = 'display_data';\n",
              "          await google.colab.output.renderOutput(dataTable, element);\n",
              "          const docLink = document.createElement('div');\n",
              "          docLink.innerHTML = docLinkHtml;\n",
              "          element.appendChild(docLink);\n",
              "        }\n",
              "      </script>\n",
              "    </div>\n",
              "  </div>\n",
              "  "
            ],
            "text/plain": [
              "    Asset_ID    Weight        Asset_Name\n",
              "1          0  4.304065      Binance Coin\n",
              "2          1  6.779922           Bitcoin\n",
              "0          2  2.397895      Bitcoin Cash\n",
              "10         3  4.406719           Cardano\n",
              "13         4  3.555348          Dogecoin\n",
              "3          5  1.386294            EOS.IO\n",
              "5          6  5.894403          Ethereum\n",
              "4          7  2.079442  Ethereum Classic\n",
              "11         8  1.098612              IOTA\n",
              "6          9  2.397895          Litecoin\n",
              "12        10  1.098612             Maker\n",
              "7         11  1.609438            Monero\n",
              "9         12  2.079442           Stellar\n",
              "8         13  1.791759              TRON"
            ]
          },
          "metadata": {},
          "execution_count": 4
        }
      ]
    },
    {
      "cell_type": "code",
      "source": [
        "example_sample_submission = pd.read_csv('/content/drive/MyDrive/Data Science/Colab Notebooks/G-research/G-research/example_sample_submission.csv')\n",
        "example_test = pd.read_csv('/content/drive/MyDrive/Data Science/Colab Notebooks/G-research/G-research/example_test.csv')\n",
        "supplemental_train = pd.read_csv('/content/drive/MyDrive/Data Science/Colab Notebooks/G-research/G-research/supplemental_train.csv')\n",
        "\n",
        "# An example of the data that will be delivered by the time series API. The data is just copied from train.csv.\n",
        "print('--------example_sample_submission---------')\n",
        "print(example_sample_submission.info())\n",
        "print(example_sample_submission.head())\n",
        "print('---------------------------------')\n",
        "\n",
        "# An example of the data that will be delivered by the time series API.\n",
        "print('--------example_test---------')\n",
        "print(example_test.head())\n",
        "print('---------------------------------')\n",
        "\n",
        "# this file's data will be replaced with cryptoasset prices from the submission period.\n",
        "print('--------supplemental_train---------')\n",
        "print(supplemental_train.head())"
      ],
      "metadata": {
        "id": "2UCOtvsAcASo",
        "colab": {
          "base_uri": "https://localhost:8080/"
        },
        "outputId": "ff84a0d1-0b1a-44c8-f5e1-a7d3a8b3413f"
      },
      "execution_count": null,
      "outputs": [
        {
          "output_type": "stream",
          "name": "stdout",
          "text": [
            "--------example_sample_submission---------\n",
            "<class 'pandas.core.frame.DataFrame'>\n",
            "RangeIndex: 56 entries, 0 to 55\n",
            "Data columns (total 3 columns):\n",
            " #   Column     Non-Null Count  Dtype\n",
            "---  ------     --------------  -----\n",
            " 0   group_num  56 non-null     int64\n",
            " 1   row_id     56 non-null     int64\n",
            " 2   Target     56 non-null     int64\n",
            "dtypes: int64(3)\n",
            "memory usage: 1.4 KB\n",
            "None\n",
            "   group_num  row_id  Target\n",
            "0          0       0       0\n",
            "1          0       1       0\n",
            "2          0       2       0\n",
            "3          0       3       0\n",
            "4          0       4       0\n",
            "---------------------------------\n",
            "--------example_test---------\n",
            "    timestamp  Asset_ID   Count  ...          VWAP  group_num  row_id\n",
            "0  1623542400         3  1201.0  ...      1.481439          0       0\n",
            "1  1623542400         2  1020.0  ...    581.697038          0       1\n",
            "2  1623542400         0   626.0  ...    344.441729          0       2\n",
            "3  1623542400         1  2888.0  ...  35583.469303          0       3\n",
            "4  1623542400         4   433.0  ...      0.312154          0       4\n",
            "\n",
            "[5 rows x 11 columns]\n",
            "---------------------------------\n",
            "--------supplemental_train---------\n",
            "    timestamp  Asset_ID   Count  ...         Volume          VWAP    Target\n",
            "0  1623542400         3  1201.0  ...  654799.561103      1.481439 -0.002594\n",
            "1  1623542400         2  1020.0  ...    1227.988328    581.697038 -0.009143\n",
            "2  1623542400         0   626.0  ...    1718.832569    344.441729 -0.004525\n",
            "3  1623542400         1  2888.0  ...     163.811537  35583.469303  0.003096\n",
            "4  1623542400         4   433.0  ...  585577.410442      0.312154  0.001426\n",
            "\n",
            "[5 rows x 10 columns]\n"
          ]
        }
      ]
    },
    {
      "cell_type": "markdown",
      "source": [
        "1. 시각화를 위해 간단하게 데이터를 나눠줍시다."
      ],
      "metadata": {
        "id": "FHt2fuaMcEBH"
      }
    },
    {
      "cell_type": "code",
      "source": [
        "# 코인 종류 리스트\n",
        "asset_name_list = list(asset_details['Asset_Name'])             \n",
        "\n",
        "# 코인별 데이터 준비\n",
        "bin = train.query('Asset_ID == 0').set_index(\"timestamp\")\n",
        "btc = train.query('Asset_ID == 1').set_index(\"timestamp\")\n",
        "btc_c = train.query('Asset_ID == 2').set_index(\"timestamp\")\n",
        "cda = train.query('Asset_ID == 3').set_index(\"timestamp\")\n",
        "dog = train.query('Asset_ID == 4').set_index(\"timestamp\")\n",
        "eos = train.query('Asset_ID == 5').set_index(\"timestamp\")\n",
        "eth = train.query('Asset_ID == 6').set_index(\"timestamp\")\n",
        "eth_c = train.query('Asset_ID == 7').set_index(\"timestamp\")\n",
        "lot = train.query('Asset_ID == 8').set_index(\"timestamp\")\n",
        "lit = train.query('Asset_ID == 9').set_index(\"timestamp\")\n",
        "mak = train.query('Asset_ID == 10').set_index(\"timestamp\")\n",
        "mon = train.query('Asset_ID == 11').set_index(\"timestamp\")\n",
        "ste = train.query('Asset_ID == 12').set_index(\"timestamp\")\n",
        "tro = train.query('Asset_ID == 13').set_index(\"timestamp\")"
      ],
      "metadata": {
        "id": "SBJbNn_mcDNw"
      },
      "execution_count": null,
      "outputs": []
    },
    {
      "cell_type": "code",
      "source": [
        "bin.head()"
      ],
      "metadata": {
        "colab": {
          "base_uri": "https://localhost:8080/",
          "height": 238
        },
        "id": "Rnziw0aB1sns",
        "outputId": "36db3666-e93a-4b4f-d98a-f01f4e6723b5"
      },
      "execution_count": null,
      "outputs": [
        {
          "output_type": "execute_result",
          "data": {
            "text/html": [
              "\n",
              "  <div id=\"df-c83e2d49-735b-4b87-b38d-7581cdbd6deb\">\n",
              "    <div class=\"colab-df-container\">\n",
              "      <div>\n",
              "<style scoped>\n",
              "    .dataframe tbody tr th:only-of-type {\n",
              "        vertical-align: middle;\n",
              "    }\n",
              "\n",
              "    .dataframe tbody tr th {\n",
              "        vertical-align: top;\n",
              "    }\n",
              "\n",
              "    .dataframe thead th {\n",
              "        text-align: right;\n",
              "    }\n",
              "</style>\n",
              "<table border=\"1\" class=\"dataframe\">\n",
              "  <thead>\n",
              "    <tr style=\"text-align: right;\">\n",
              "      <th></th>\n",
              "      <th>Asset_ID</th>\n",
              "      <th>Count</th>\n",
              "      <th>Open</th>\n",
              "      <th>High</th>\n",
              "      <th>Low</th>\n",
              "      <th>Close</th>\n",
              "      <th>Volume</th>\n",
              "      <th>VWAP</th>\n",
              "      <th>Target</th>\n",
              "    </tr>\n",
              "    <tr>\n",
              "      <th>timestamp</th>\n",
              "      <th></th>\n",
              "      <th></th>\n",
              "      <th></th>\n",
              "      <th></th>\n",
              "      <th></th>\n",
              "      <th></th>\n",
              "      <th></th>\n",
              "      <th></th>\n",
              "      <th></th>\n",
              "    </tr>\n",
              "  </thead>\n",
              "  <tbody>\n",
              "    <tr>\n",
              "      <th>1514764860</th>\n",
              "      <td>0</td>\n",
              "      <td>5.0</td>\n",
              "      <td>8.5300</td>\n",
              "      <td>8.5300</td>\n",
              "      <td>8.5300</td>\n",
              "      <td>8.5300</td>\n",
              "      <td>78.38</td>\n",
              "      <td>8.530000</td>\n",
              "      <td>-0.014399</td>\n",
              "    </tr>\n",
              "    <tr>\n",
              "      <th>1514764920</th>\n",
              "      <td>0</td>\n",
              "      <td>7.0</td>\n",
              "      <td>8.5300</td>\n",
              "      <td>8.5300</td>\n",
              "      <td>8.5145</td>\n",
              "      <td>8.5145</td>\n",
              "      <td>71.39</td>\n",
              "      <td>8.520215</td>\n",
              "      <td>-0.015875</td>\n",
              "    </tr>\n",
              "    <tr>\n",
              "      <th>1514764980</th>\n",
              "      <td>0</td>\n",
              "      <td>45.0</td>\n",
              "      <td>8.5065</td>\n",
              "      <td>8.5299</td>\n",
              "      <td>8.4848</td>\n",
              "      <td>8.4848</td>\n",
              "      <td>1546.82</td>\n",
              "      <td>8.501394</td>\n",
              "      <td>-0.015410</td>\n",
              "    </tr>\n",
              "    <tr>\n",
              "      <th>1514765040</th>\n",
              "      <td>0</td>\n",
              "      <td>14.0</td>\n",
              "      <td>8.5009</td>\n",
              "      <td>8.5066</td>\n",
              "      <td>8.4744</td>\n",
              "      <td>8.5009</td>\n",
              "      <td>125.80</td>\n",
              "      <td>8.479810</td>\n",
              "      <td>-0.012524</td>\n",
              "    </tr>\n",
              "    <tr>\n",
              "      <th>1514765100</th>\n",
              "      <td>0</td>\n",
              "      <td>5.0</td>\n",
              "      <td>8.5007</td>\n",
              "      <td>8.5007</td>\n",
              "      <td>8.4560</td>\n",
              "      <td>8.4560</td>\n",
              "      <td>125.01</td>\n",
              "      <td>8.458435</td>\n",
              "      <td>-0.005940</td>\n",
              "    </tr>\n",
              "  </tbody>\n",
              "</table>\n",
              "</div>\n",
              "      <button class=\"colab-df-convert\" onclick=\"convertToInteractive('df-c83e2d49-735b-4b87-b38d-7581cdbd6deb')\"\n",
              "              title=\"Convert this dataframe to an interactive table.\"\n",
              "              style=\"display:none;\">\n",
              "        \n",
              "  <svg xmlns=\"http://www.w3.org/2000/svg\" height=\"24px\"viewBox=\"0 0 24 24\"\n",
              "       width=\"24px\">\n",
              "    <path d=\"M0 0h24v24H0V0z\" fill=\"none\"/>\n",
              "    <path d=\"M18.56 5.44l.94 2.06.94-2.06 2.06-.94-2.06-.94-.94-2.06-.94 2.06-2.06.94zm-11 1L8.5 8.5l.94-2.06 2.06-.94-2.06-.94L8.5 2.5l-.94 2.06-2.06.94zm10 10l.94 2.06.94-2.06 2.06-.94-2.06-.94-.94-2.06-.94 2.06-2.06.94z\"/><path d=\"M17.41 7.96l-1.37-1.37c-.4-.4-.92-.59-1.43-.59-.52 0-1.04.2-1.43.59L10.3 9.45l-7.72 7.72c-.78.78-.78 2.05 0 2.83L4 21.41c.39.39.9.59 1.41.59.51 0 1.02-.2 1.41-.59l7.78-7.78 2.81-2.81c.8-.78.8-2.07 0-2.86zM5.41 20L4 18.59l7.72-7.72 1.47 1.35L5.41 20z\"/>\n",
              "  </svg>\n",
              "      </button>\n",
              "      \n",
              "  <style>\n",
              "    .colab-df-container {\n",
              "      display:flex;\n",
              "      flex-wrap:wrap;\n",
              "      gap: 12px;\n",
              "    }\n",
              "\n",
              "    .colab-df-convert {\n",
              "      background-color: #E8F0FE;\n",
              "      border: none;\n",
              "      border-radius: 50%;\n",
              "      cursor: pointer;\n",
              "      display: none;\n",
              "      fill: #1967D2;\n",
              "      height: 32px;\n",
              "      padding: 0 0 0 0;\n",
              "      width: 32px;\n",
              "    }\n",
              "\n",
              "    .colab-df-convert:hover {\n",
              "      background-color: #E2EBFA;\n",
              "      box-shadow: 0px 1px 2px rgba(60, 64, 67, 0.3), 0px 1px 3px 1px rgba(60, 64, 67, 0.15);\n",
              "      fill: #174EA6;\n",
              "    }\n",
              "\n",
              "    [theme=dark] .colab-df-convert {\n",
              "      background-color: #3B4455;\n",
              "      fill: #D2E3FC;\n",
              "    }\n",
              "\n",
              "    [theme=dark] .colab-df-convert:hover {\n",
              "      background-color: #434B5C;\n",
              "      box-shadow: 0px 1px 3px 1px rgba(0, 0, 0, 0.15);\n",
              "      filter: drop-shadow(0px 1px 2px rgba(0, 0, 0, 0.3));\n",
              "      fill: #FFFFFF;\n",
              "    }\n",
              "  </style>\n",
              "\n",
              "      <script>\n",
              "        const buttonEl =\n",
              "          document.querySelector('#df-c83e2d49-735b-4b87-b38d-7581cdbd6deb button.colab-df-convert');\n",
              "        buttonEl.style.display =\n",
              "          google.colab.kernel.accessAllowed ? 'block' : 'none';\n",
              "\n",
              "        async function convertToInteractive(key) {\n",
              "          const element = document.querySelector('#df-c83e2d49-735b-4b87-b38d-7581cdbd6deb');\n",
              "          const dataTable =\n",
              "            await google.colab.kernel.invokeFunction('convertToInteractive',\n",
              "                                                     [key], {});\n",
              "          if (!dataTable) return;\n",
              "\n",
              "          const docLinkHtml = 'Like what you see? Visit the ' +\n",
              "            '<a target=\"_blank\" href=https://colab.research.google.com/notebooks/data_table.ipynb>data table notebook</a>'\n",
              "            + ' to learn more about interactive tables.';\n",
              "          element.innerHTML = '';\n",
              "          dataTable['output_type'] = 'display_data';\n",
              "          await google.colab.output.renderOutput(dataTable, element);\n",
              "          const docLink = document.createElement('div');\n",
              "          docLink.innerHTML = docLinkHtml;\n",
              "          element.appendChild(docLink);\n",
              "        }\n",
              "      </script>\n",
              "    </div>\n",
              "  </div>\n",
              "  "
            ],
            "text/plain": [
              "            Asset_ID  Count    Open  ...   Volume      VWAP    Target\n",
              "timestamp                            ...                             \n",
              "1514764860         0    5.0  8.5300  ...    78.38  8.530000 -0.014399\n",
              "1514764920         0    7.0  8.5300  ...    71.39  8.520215 -0.015875\n",
              "1514764980         0   45.0  8.5065  ...  1546.82  8.501394 -0.015410\n",
              "1514765040         0   14.0  8.5009  ...   125.80  8.479810 -0.012524\n",
              "1514765100         0    5.0  8.5007  ...   125.01  8.458435 -0.005940\n",
              "\n",
              "[5 rows x 9 columns]"
            ]
          },
          "metadata": {},
          "execution_count": 6
        }
      ]
    },
    {
      "cell_type": "markdown",
      "source": [
        "2. timestamp의 간격을 동일하게 만들어 줍시다."
      ],
      "metadata": {
        "id": "EcZeZF-WzLd7"
      }
    },
    {
      "cell_type": "code",
      "source": [
        "# timstamp 기간 확인\n",
        "#[bin, btc, btc_c, cda, dog, eos, eth, eth_c, lot, lit, mak, mon, ste, tro]\n",
        "\n",
        "print(f'--------------------bin--------------------')\n",
        "beg = bin.index[0].astype('datetime64[s]')\n",
        "end = bin.index[-1].astype('datetime64[s]')\n",
        "print(f'{beg} ~ {end}')\n",
        "\n",
        "print(f'--------------------btc--------------------')\n",
        "beg = btc.index[0].astype('datetime64[s]')\n",
        "end = btc.index[-1].astype('datetime64[s]')\n",
        "print(f'{beg} ~ {end}')\n",
        "\n",
        "print(f'--------------------btc_c--------------------')\n",
        "beg = btc_c.index[0].astype('datetime64[s]')\n",
        "end = btc_c.index[-1].astype('datetime64[s]')\n",
        "print(f'{beg} ~ {end}')\n",
        "\n",
        "print(f'--------------------cda--------------------')\n",
        "beg = cda.index[0].astype('datetime64[s]')\n",
        "end = cda.index[-1].astype('datetime64[s]')\n",
        "print(f'{beg} ~ {end}')\n",
        "\n",
        "print(f'--------------------dog--------------------')\n",
        "beg = dog.index[0].astype('datetime64[s]')\n",
        "end = dog.index[-1].astype('datetime64[s]')\n",
        "print(f'{beg} ~ {end}')\n",
        "\n",
        "print(f'--------------------eos--------------------')\n",
        "beg = eos.index[0].astype('datetime64[s]')\n",
        "end = eos.index[-1].astype('datetime64[s]')\n",
        "print(f'{beg} ~ {end}')\n",
        "\n",
        "print(f'--------------------eth--------------------')\n",
        "beg = eth.index[0].astype('datetime64[s]')\n",
        "end = eth.index[-1].astype('datetime64[s]')\n",
        "print(f'{beg} ~ {end}')\n",
        "\n",
        "print(f'--------------------eth_c--------------------')\n",
        "beg = eth_c.index[0].astype('datetime64[s]')\n",
        "end = eth_c.index[-1].astype('datetime64[s]')\n",
        "print(f'{beg} ~ {end}')\n",
        "\n",
        "print(f'--------------------lot--------------------')\n",
        "beg = lot.index[0].astype('datetime64[s]')\n",
        "end = lot.index[-1].astype('datetime64[s]')\n",
        "print(f'{beg} ~ {end}')\n",
        "\n",
        "print(f'--------------------lit--------------------')\n",
        "beg = lit.index[0].astype('datetime64[s]')\n",
        "end = lit.index[-1].astype('datetime64[s]')\n",
        "print(f'{beg} ~ {end}')\n",
        "\n",
        "print(f'--------------------mak--------------------')\n",
        "beg = mak.index[0].astype('datetime64[s]')\n",
        "end = mak.index[-1].astype('datetime64[s]')\n",
        "print(f'{beg} ~ {end}')\n",
        "\n",
        "print(f'--------------------mon--------------------')\n",
        "beg = mon.index[0].astype('datetime64[s]')\n",
        "end = mon.index[-1].astype('datetime64[s]')\n",
        "print(f'{beg} ~ {end}')\n",
        "\n",
        "print(f'--------------------ste--------------------')\n",
        "beg = ste.index[0].astype('datetime64[s]')\n",
        "end = ste.index[-1].astype('datetime64[s]')\n",
        "print(f'{beg} ~ {end}')\n",
        "\n",
        "print(f'--------------------tro--------------------')\n",
        "beg = tro.index[0].astype('datetime64[s]')\n",
        "end = tro.index[-1].astype('datetime64[s]')\n",
        "print(f'{beg} ~ {end}')\n",
        "\n",
        "\n",
        "\n",
        "# cda, dog, lot, mak, ste, tro 의 시작점이 다르다."
      ],
      "metadata": {
        "id": "jlTq98RlhOl9",
        "colab": {
          "base_uri": "https://localhost:8080/"
        },
        "outputId": "97ac9478-19fc-427f-c986-467a2c7e1b3f"
      },
      "execution_count": null,
      "outputs": [
        {
          "output_type": "stream",
          "name": "stdout",
          "text": [
            "--------------------bin--------------------\n",
            "2018-01-01T00:01:00 ~ 2021-09-21T00:00:00\n",
            "--------------------btc--------------------\n",
            "2018-01-01T00:01:00 ~ 2021-09-21T00:00:00\n",
            "--------------------btc_c--------------------\n",
            "2018-01-01T00:01:00 ~ 2021-09-21T00:00:00\n",
            "--------------------cda--------------------\n",
            "2018-04-17T09:11:00 ~ 2021-09-21T00:00:00\n",
            "--------------------dog--------------------\n",
            "2019-04-12T14:34:00 ~ 2021-09-21T00:00:00\n",
            "--------------------eos--------------------\n",
            "2018-01-01T00:01:00 ~ 2021-09-21T00:00:00\n",
            "--------------------eth--------------------\n",
            "2018-01-01T00:01:00 ~ 2021-09-21T00:00:00\n",
            "--------------------eth_c--------------------\n",
            "2018-01-01T00:01:00 ~ 2021-09-21T00:00:00\n",
            "--------------------lot--------------------\n",
            "2018-05-09T08:07:00 ~ 2021-09-21T00:00:00\n",
            "--------------------lit--------------------\n",
            "2018-01-01T00:01:00 ~ 2021-09-21T00:00:00\n",
            "--------------------mak--------------------\n",
            "2018-05-10T15:21:00 ~ 2021-09-21T00:00:00\n",
            "--------------------mon--------------------\n",
            "2018-01-01T00:01:00 ~ 2021-09-21T00:00:00\n",
            "--------------------ste--------------------\n",
            "2018-02-16T23:53:00 ~ 2021-09-21T00:00:00\n",
            "--------------------tro--------------------\n",
            "2018-02-06T21:37:00 ~ 2021-09-21T00:00:00\n"
          ]
        }
      ]
    },
    {
      "cell_type": "code",
      "source": [
        "# timstamp 간격을 모두 동일하게 만들어 주자.\n",
        "\n",
        "print(f'--------------------bin--------------------')\n",
        "bin_fill_range = range(bin.index[0], bin.index[-1]+60, 60)\n",
        "bin = bin.reindex(bin_fill_range, method='pad')\n",
        "\n",
        "print(f'--------------------btc--------------------')\n",
        "btc_fill_range = range(btc.index[0], btc.index[-1]+60, 60)\n",
        "btc = btc.reindex(btc_fill_range, method='pad')\n",
        "\n",
        "print(f'--------------------btc_c--------------------')\n",
        "btc_c_fill_range = range(btc_c.index[0], btc_c.index[-1]+60, 60)\n",
        "btc_c = btc_c.reindex(btc_c_fill_range, method='pad')\n",
        "\n",
        "print(f'--------------------cda--------------------')\n",
        "cda_fill_range = range(cda.index[0], cda.index[-1]+60, 60)\n",
        "cda = cda.reindex(cda_fill_range, method='pad')\n",
        "\n",
        "print(f'--------------------dog--------------------')\n",
        "dog_fill_range = range(dog.index[0], dog.index[-1]+60, 60)\n",
        "dog = dog.reindex(dog_fill_range, method='pad')\n",
        "\n",
        "print(f'--------------------eos--------------------')\n",
        "eos_fill_range = range(eos.index[0], eos.index[-1]+60, 60)\n",
        "eos = eos.reindex(eos_fill_range, method='pad')\n",
        "\n",
        "print(f'--------------------eth--------------------')\n",
        "eth_fill_range = range(eth.index[0], eth.index[-1]+60, 60)\n",
        "eth = eth.reindex(eth_fill_range, method='pad')\n",
        "\n",
        "print(f'--------------------eth_c--------------------')\n",
        "eth_c_fill_range = range(eth_c.index[0], eth_c.index[-1]+60, 60)\n",
        "eth_c = eth_c.reindex(eth_c_fill_range, method='pad')\n",
        "\n",
        "print(f'--------------------lot--------------------')\n",
        "lot_fill_range = range(lot.index[0], lot.index[-1]+60, 60)\n",
        "lot = lot.reindex(lot_fill_range, method='pad')\n",
        "\n",
        "print(f'--------------------lit--------------------')\n",
        "lit_fill_range = range(lit.index[0], lit.index[-1]+60, 60)\n",
        "lit = lit.reindex(lit_fill_range, method='pad')\n",
        "\n",
        "print(f'--------------------mak--------------------')\n",
        "mak_fill_range = range(mak.index[0], mak.index[-1]+60, 60)\n",
        "mak = mak.reindex(mak_fill_range, method='pad')\n",
        "\n",
        "print(f'--------------------mon--------------------')\n",
        "mon_fill_range = range(mon.index[0], mon.index[-1]+60, 60)\n",
        "mon = mon.reindex(mon_fill_range, method='pad')\n",
        "\n",
        "print(f'--------------------ste--------------------')\n",
        "ste_fill_range = range(ste.index[0], ste.index[-1]+60, 60)\n",
        "ste = ste.reindex(ste_fill_range, method='pad')\n",
        "\n",
        "print(f'--------------------tro--------------------')\n",
        "tro_fill_range = range(tro.index[0], tro.index[-1]+60, 60)\n",
        "tro = tro.reindex(tro_fill_range, method='pad')"
      ],
      "metadata": {
        "colab": {
          "base_uri": "https://localhost:8080/"
        },
        "id": "k9end_W221mi",
        "outputId": "73aefe91-d870-49ff-f6e2-cce69d5e58f4"
      },
      "execution_count": null,
      "outputs": [
        {
          "output_type": "stream",
          "name": "stdout",
          "text": [
            "--------------------bin--------------------\n",
            "<class 'pandas.core.frame.DataFrame'>\n",
            "RangeIndex: 1956960 entries, 1514764860 to 1632182400\n",
            "Data columns (total 9 columns):\n",
            " #   Column    Dtype  \n",
            "---  ------    -----  \n",
            " 0   Asset_ID  int64  \n",
            " 1   Count     float64\n",
            " 2   Open      float64\n",
            " 3   High      float64\n",
            " 4   Low       float64\n",
            " 5   Close     float64\n",
            " 6   Volume    float64\n",
            " 7   VWAP      float64\n",
            " 8   Target    float64\n",
            "dtypes: float64(8), int64(1)\n",
            "memory usage: 134.4 MB\n",
            "None\n",
            "--------------------btc--------------------\n",
            "<class 'pandas.core.frame.DataFrame'>\n",
            "RangeIndex: 1956960 entries, 1514764860 to 1632182400\n",
            "Data columns (total 9 columns):\n",
            " #   Column    Dtype  \n",
            "---  ------    -----  \n",
            " 0   Asset_ID  int64  \n",
            " 1   Count     float64\n",
            " 2   Open      float64\n",
            " 3   High      float64\n",
            " 4   Low       float64\n",
            " 5   Close     float64\n",
            " 6   Volume    float64\n",
            " 7   VWAP      float64\n",
            " 8   Target    float64\n",
            "dtypes: float64(8), int64(1)\n",
            "memory usage: 134.4 MB\n",
            "None\n",
            "--------------------btc_c--------------------\n",
            "<class 'pandas.core.frame.DataFrame'>\n",
            "RangeIndex: 1956960 entries, 1514764860 to 1632182400\n",
            "Data columns (total 9 columns):\n",
            " #   Column    Dtype  \n",
            "---  ------    -----  \n",
            " 0   Asset_ID  int64  \n",
            " 1   Count     float64\n",
            " 2   Open      float64\n",
            " 3   High      float64\n",
            " 4   Low       float64\n",
            " 5   Close     float64\n",
            " 6   Volume    float64\n",
            " 7   VWAP      float64\n",
            " 8   Target    float64\n",
            "dtypes: float64(8), int64(1)\n",
            "memory usage: 134.4 MB\n",
            "None\n",
            "--------------------cda--------------------\n",
            "--------------------dog--------------------\n",
            "--------------------eos--------------------\n",
            "--------------------eth--------------------\n",
            "--------------------eth_c--------------------\n",
            "--------------------lot--------------------\n",
            "--------------------lit--------------------\n",
            "--------------------mak--------------------\n",
            "--------------------mon--------------------\n",
            "--------------------ste--------------------\n",
            "--------------------tro--------------------\n"
          ]
        }
      ]
    },
    {
      "cell_type": "markdown",
      "source": [
        "# **II. 데이터 탐색&시각화**\n",
        "\n",
        "---\n",
        "\n"
      ],
      "metadata": {
        "id": "ag_vXE-vQkTm"
      }
    },
    {
      "cell_type": "markdown",
      "source": [
        "1.  Volatility of Crypto Currencies\n",
        "\n",
        "They look like moving altogether."
      ],
      "metadata": {
        "id": "_TOC3MCyvm4x"
      }
    },
    {
      "cell_type": "code",
      "source": [
        "# Close 값의 양상 비교 -> 처음값으로부터 얼마나 변동했는지.\n",
        "# 코인들의 변동 양상이 비슷하다. 하지만 변동 정도는 제각각 다르다. 가격 예측할 때 가중치를 둬야 함. \n",
        "\n",
        "btc_normalization = btc.Close.div(btc.Close.iloc[0]).mul(100)\n",
        "eth_normalization = eth.Close.div(eth.Close.iloc[0]).mul(100)\n",
        "cda_normalization = cda.Close.div(cda.Close.iloc[0]).mul(100)\n",
        "bin_normalization = bin.Close.div(bin.Close.iloc[0]).mul(100)\n",
        "mak_normalization = mak.Close.div(mak.Close.iloc[0]).mul(100)\n",
        "lit_normalization = lit.Close.div(lit.Close.iloc[0]).mul(100)\n",
        "mon_normalization = mon.Close.div(mon.Close.iloc[0]).mul(100)\n",
        "lot_normalization = lot.Close.div(lot.Close.iloc[0]).mul(100)\n",
        "dog_normalization = dog.Close.div(dog.Close.iloc[0]).mul(100)\n",
        "eos_normalization = eos.Close.div(eos.Close.iloc[0]).mul(100)\n",
        "tro_normalization = tro.Close.div(tro.Close.iloc[0]).mul(100)\n",
        "ste_normalization = ste.Close.div(ste.Close.iloc[0]).mul(100)\n",
        "btc_c_normalization = btc_c.Close.div(btc_c.Close.iloc[0]).mul(100)\n",
        "eth_c_normalization = eth_c.Close.div(eth.Close.iloc[0]).mul(100)\n",
        "\n",
        "\n",
        "plt.figure(figsize=(7, 5))\n",
        "btc_normalization.plot()\n",
        "eth_normalization.plot()\n",
        "cda_normalization.plot()\n",
        "#bin_normalization.plot() 얘는 혼자 너무 크다.\n",
        "tro_normalization.plot()\n",
        "ste_normalization.plot()\n",
        "btc_c_normalization.plot()\n",
        "plt.legend(['btc', 'eth', 'cda', 'tro', 'ste', 'btc_c'])\n",
        "plt.grid()\n",
        "plt.show()\n",
        "\n",
        "\n",
        "plt.figure(figsize=(7, 5))\n",
        "eth_c_normalization.plot()\n",
        "mak_normalization.plot()\n",
        "lit_normalization.plot()\n",
        "mon_normalization.plot()\n",
        "lot_normalization.plot()\n",
        "#dog_normalization.plot() 얘도 혼자 너무 크다.\n",
        "eos_normalization.plot()\n",
        "plt.legend(['eth_c', 'mak', 'lit', 'mon', 'lot', 'dog', 'eos'])\n",
        "plt.grid()\n",
        "plt.show()"
      ],
      "metadata": {
        "id": "rdhN-GEWQNeS",
        "colab": {
          "base_uri": "https://localhost:8080/",
          "height": 670
        },
        "outputId": "52ca5e65-aaac-4aa1-d78d-b59568ce5b97"
      },
      "execution_count": null,
      "outputs": [
        {
          "output_type": "stream",
          "name": "stderr",
          "text": [
            "findfont: Font family ['NanumBarunGothic'] not found. Falling back to DejaVu Sans.\n"
          ]
        },
        {
          "output_type": "display_data",
          "data": {
            "image/png": "[encoded data removed]",
            "text/plain": [
              "<Figure size 504x360 with 1 Axes>"
            ]
          },
          "metadata": {
            "needs_background": "light"
          }
        },
        {
          "output_type": "display_data",
          "data": {
            "image/png": "[encoded data removed]",
            "text/plain": [
              "<Figure size 504x360 with 1 Axes>"
            ]
          },
          "metadata": {
            "needs_background": "light"
          }
        }
      ]
    },
    {
      "cell_type": "markdown",
      "source": [
        "2. Correlation with each other Crypto Currencies\n",
        "\n",
        "High correlation. In here, we should uncover 'trigger' which move other crypto currencies. first, Let's find first mover. "
      ],
      "metadata": {
        "id": "RwGQp7X1v1Mk"
      }
    },
    {
      "cell_type": "code",
      "source": [
        "# 로그 변환 처리를 위해 함수를 만들기\n",
        "def log_return(series, periods=1):\n",
        "    return np.log(series).diff(periods=periods)"
      ],
      "metadata": {
        "id": "39UFQJKvx90G"
      },
      "execution_count": null,
      "outputs": []
    },
    {
      "cell_type": "code",
      "source": [
        "# btc & eth / 아주 그냥 상관관계가 들쭉날쭉이다.\n",
        "\n",
        "df_lret_btc = log_return(btc['Close'])[1:]\n",
        "df_lret_eth = log_return(eth['Close'])[1:]\n",
        "df_lret_btc.rename('lret_btc', inplace=True)\n",
        "df_lret_eth.rename('lret_eth', inplace=True)\n",
        "two_lret = pd.concat([df_lret_btc, df_lret_eth], axis=1)\n",
        "two_lret_corr = two_lret.groupby(two_lret.index//(60*10000)).corr().loc[:,\"lret_btc\"].loc[:,\"lret_eth\"]\n",
        "\n",
        "plt.figure(figsize=(7, 5))\n",
        "two_lret_corr.plot()\n",
        "plt.legend(['btc&eth corr'])\n",
        "plt.grid()\n",
        "plt.show()"
      ],
      "metadata": {
        "colab": {
          "base_uri": "https://localhost:8080/",
          "height": 334
        },
        "id": "hnFbYjzMfOC3",
        "outputId": "2e13d360-ce2c-4269-d4eb-67d877bc89f9"
      },
      "execution_count": null,
      "outputs": [
        {
          "output_type": "display_data",
          "data": {
            "image/png": "[encoded data removed]",
            "text/plain": [
              "<Figure size 504x360 with 1 Axes>"
            ]
          },
          "metadata": {
            "needs_background": "light"
          }
        }
      ]
    },
    {
      "cell_type": "code",
      "source": [
        "pd.set_option('display.max_rows', None)"
      ],
      "metadata": {
        "id": "NAklIpp3kiBI"
      },
      "execution_count": null,
      "outputs": []
    },
    {
      "cell_type": "code",
      "source": [
        "# btc& cda / cda도 eth와 마찬가지로 257.5 시기에 상관관계가 떨어졌고, 그 이후에 올라가는 양상을 보이고 있다. \n",
        "\n",
        "df_lret_cda = log_return(cda['Close'][1:])\n",
        "df_lret_cda.rename('lret_cda', inplace=True)\n",
        "two_lret = pd.concat([df_lret_btc, df_lret_cda], axis=1)\n",
        "two_lret_corr = two_lret.groupby(two_lret.index//(60*10000)).corr().loc[:, 'lret_btc'].loc[:, 'lret_cda'][1:]                  \n",
        "\n",
        "plt.figure(figsize=(7, 5))\n",
        "two_lret_corr.plot()\n",
        "plt.legend(['btc&cda corr'])\n",
        "plt.grid()\n",
        "plt.show()"
      ],
      "metadata": {
        "colab": {
          "base_uri": "https://localhost:8080/",
          "height": 320
        },
        "id": "hcvJpacnZ8vs",
        "outputId": "cf471ff9-f043-4df2-ab47-7e11b77bbed9"
      },
      "execution_count": null,
      "outputs": [
        {
          "output_type": "display_data",
          "data": {
            "image/png": "[encoded data removed]",
            "text/plain": [
              "<Figure size 504x360 with 1 Axes>"
            ]
          },
          "metadata": {
            "needs_background": "light"
          }
        }
      ]
    },
    {
      "cell_type": "code",
      "source": [
        "# btc& dog / 도지코인도 큰 흐름으로 보았을 때, 255에서 상관도 하락/ 265에서 다시 하락/ 268에서도 다시한번 하락했다. 이는 cda, eth의 그래프와도 밀접한 상관관계를 가지고 있을 것으로 보인다. \n",
        "\n",
        "df_lret_dog = log_return(dog['Close'][1:])\n",
        "df_lret_dog.rename('lret_dog', inplace=True)\n",
        "two_lret = pd.concat([df_lret_btc, df_lret_dog], axis=1)\n",
        "two_lret_corr = two_lret.groupby(two_lret.index//(60*10000)).corr().loc[:, 'lret_btc'].loc[:, 'lret_dog'][1:]                  \n",
        "\n",
        "plt.figure(figsize=(7, 5))\n",
        "two_lret_corr.plot()\n",
        "plt.legend(['btc&dog corr'])\n",
        "plt.grid()\n",
        "plt.show()"
      ],
      "metadata": {
        "colab": {
          "base_uri": "https://localhost:8080/",
          "height": 320
        },
        "id": "q1QIx4ficS0W",
        "outputId": "19d4e6c0-4489-4d97-ae87-6a6545ee18e7"
      },
      "execution_count": null,
      "outputs": [
        {
          "output_type": "display_data",
          "data": {
            "image/png": "[encoded data removed]",
            "text/plain": [
              "<Figure size 504x360 with 1 Axes>"
            ]
          },
          "metadata": {
            "needs_background": "light"
          }
        }
      ]
    },
    {
      "cell_type": "code",
      "source": [
        "# 같은 양상을 보였던(일제히 상관도가 떨어졌던..) 시기 살펴보기 -> 상관성이 요동친다.\n",
        "from datetime import datetime\n",
        "\n",
        "# 1번째 하락\n",
        "print('--------------------- 1st ---------------------')\n",
        "timestamp = [2564, 2565, 2566, 2567, 2568, 2569, 2570]\n",
        "for i in timestamp:\n",
        "  time = i * (60*10000)\n",
        "  datetime = datetime.fromtimestamp(time)\n",
        "  print(datetime)\n",
        "\n",
        "# 2번째 하락\n",
        "print('--------------------- 2nd ---------------------')\n",
        "timestamp = [2580, 2581, 2582, 2583, 2585, 2586, 2587, 2588, 2589]\n",
        "for i in timestamp:\n",
        "  time = i * (60*10000)\n",
        "  datetime = datetime.fromtimestamp(time)\n",
        "  print(datetime)\n",
        "\n",
        "\n",
        "# 2018.10-2018.11 비트코인 가격 약 40% 하락\n",
        "# 2019.01-2019.03 비트코인 가격 약 18% - 4,5,6월 약 90% 상승"
      ],
      "metadata": {
        "colab": {
          "base_uri": "https://localhost:8080/"
        },
        "id": "1zMOY31Sfcro",
        "outputId": "5063af8b-168d-4dfe-a6b2-0a8141f745a1"
      },
      "execution_count": null,
      "outputs": [
        {
          "output_type": "stream",
          "name": "stdout",
          "text": [
            "--------------------- 1st ---------------------\n",
            "2018-10-01 13:20:00\n",
            "2018-10-08 12:00:00\n",
            "2018-10-15 10:40:00\n",
            "2018-10-22 09:20:00\n",
            "2018-10-29 08:00:00\n",
            "2018-11-05 06:40:00\n",
            "2018-11-12 05:20:00\n",
            "--------------------- 2nd ---------------------\n",
            "2019-01-20 16:00:00\n",
            "2019-01-27 14:40:00\n",
            "2019-02-03 13:20:00\n",
            "2019-02-10 12:00:00\n",
            "2019-02-24 09:20:00\n",
            "2019-03-03 08:00:00\n",
            "2019-03-10 06:40:00\n",
            "2019-03-17 05:20:00\n",
            "2019-03-24 04:00:00\n"
          ]
        }
      ]
    },
    {
      "cell_type": "code",
      "source": [
        "time = 1538400000\n",
        "datetime = datetime.fromtimestamp(time)\n",
        "datetime"
      ],
      "metadata": {
        "colab": {
          "base_uri": "https://localhost:8080/"
        },
        "id": "SOM-n8KBnTmg",
        "outputId": "d16f6b1f-9682-4278-f7c4-9e12f5ad4792"
      },
      "execution_count": null,
      "outputs": [
        {
          "output_type": "execute_result",
          "data": {
            "text/plain": [
              "datetime.datetime(2018, 10, 1, 13, 20)"
            ]
          },
          "metadata": {},
          "execution_count": 68
        }
      ]
    },
    {
      "cell_type": "code",
      "source": [
        "# totimestamp 변환\n",
        "totimestamp = lambda s : np.int32(time.mktime(datetime.strptime(s, \"%d/%m/%Y\").timetuple()))\n",
        "\n",
        "# 모든 코인끼리의 상관관계 살피기\n",
        "from pandas.core.tools.datetimes import to_datetime\n",
        "\n",
        "# 빈 데이터프레임을 초기화합니다.\n",
        "all_assets_2021 = pd.DataFrame([])\n",
        "\n",
        "for assert_id, assert_num in zip(asset_details['Asset_ID'], asset_details['Asset_Name']):\n",
        "  asset = train.query(f'Asset_ID == {assert_id}').set_index(\"timestamp\")\n",
        "  # 원하는 시간대 추출\n",
        "  asset = asset.loc[totimestamp('01/01/2021'):totimestamp('01/05/2021')]\n",
        "\n",
        "  # asset 간격을 60으로 맞추기\n",
        "  asset_fill_range = range(asset.index[0], asset.index[-1]+60, 60)\n",
        "  asset = asset.reindex(asset_fill_range, method='pad')\n",
        "\n",
        "  # 로그 변환\n",
        "  asset_lret = log_return(asset['Close'])[1:]\n",
        "\n",
        "  # join\n",
        "  all_assets_2021 = all_assets_2021.join(asset_lret, rsuffix=assert_num, how='outer')\n",
        "  "
      ],
      "metadata": {
        "id": "IcEFkRAB0I0E"
      },
      "execution_count": null,
      "outputs": []
    },
    {
      "cell_type": "code",
      "source": [
        "all_assets_2021.head()"
      ],
      "metadata": {
        "colab": {
          "base_uri": "https://localhost:8080/",
          "height": 318
        },
        "id": "C6l4Ocw3-GOy",
        "outputId": "ebd4c697-e500-4f9e-d673-5cf82fd2d52e"
      },
      "execution_count": null,
      "outputs": [
        {
          "output_type": "execute_result",
          "data": {
            "text/html": [
              "\n",
              "  <div id=\"df-5ce473a8-cc72-42b1-af1f-53b760dba879\">\n",
              "    <div class=\"colab-df-container\">\n",
              "      <div>\n",
              "<style scoped>\n",
              "    .dataframe tbody tr th:only-of-type {\n",
              "        vertical-align: middle;\n",
              "    }\n",
              "\n",
              "    .dataframe tbody tr th {\n",
              "        vertical-align: top;\n",
              "    }\n",
              "\n",
              "    .dataframe thead th {\n",
              "        text-align: right;\n",
              "    }\n",
              "</style>\n",
              "<table border=\"1\" class=\"dataframe\">\n",
              "  <thead>\n",
              "    <tr style=\"text-align: right;\">\n",
              "      <th></th>\n",
              "      <th>Close</th>\n",
              "      <th>CloseBitcoin</th>\n",
              "      <th>CloseBitcoin Cash</th>\n",
              "      <th>CloseCardano</th>\n",
              "      <th>CloseDogecoin</th>\n",
              "      <th>CloseEOS.IO</th>\n",
              "      <th>CloseEthereum</th>\n",
              "      <th>CloseEthereum Classic</th>\n",
              "      <th>CloseIOTA</th>\n",
              "      <th>CloseLitecoin</th>\n",
              "      <th>CloseMaker</th>\n",
              "      <th>CloseMonero</th>\n",
              "      <th>CloseStellar</th>\n",
              "      <th>CloseTRON</th>\n",
              "    </tr>\n",
              "    <tr>\n",
              "      <th>timestamp</th>\n",
              "      <th></th>\n",
              "      <th></th>\n",
              "      <th></th>\n",
              "      <th></th>\n",
              "      <th></th>\n",
              "      <th></th>\n",
              "      <th></th>\n",
              "      <th></th>\n",
              "      <th></th>\n",
              "      <th></th>\n",
              "      <th></th>\n",
              "      <th></th>\n",
              "      <th></th>\n",
              "      <th></th>\n",
              "    </tr>\n",
              "  </thead>\n",
              "  <tbody>\n",
              "    <tr>\n",
              "      <th>1609459320</th>\n",
              "      <td>-0.001544</td>\n",
              "      <td>-0.001014</td>\n",
              "      <td>-0.001111</td>\n",
              "      <td>-0.001161</td>\n",
              "      <td>-0.001016</td>\n",
              "      <td>-0.000244</td>\n",
              "      <td>-0.001350</td>\n",
              "      <td>0.001606</td>\n",
              "      <td>0.000506</td>\n",
              "      <td>-0.001231</td>\n",
              "      <td>0.000180</td>\n",
              "      <td>-0.000671</td>\n",
              "      <td>-0.004668</td>\n",
              "      <td>-0.000697</td>\n",
              "    </tr>\n",
              "    <tr>\n",
              "      <th>1609459380</th>\n",
              "      <td>-0.001067</td>\n",
              "      <td>0.000090</td>\n",
              "      <td>-0.000536</td>\n",
              "      <td>-0.001886</td>\n",
              "      <td>-0.000086</td>\n",
              "      <td>0.000026</td>\n",
              "      <td>-0.000506</td>\n",
              "      <td>-0.000705</td>\n",
              "      <td>-0.001351</td>\n",
              "      <td>-0.000454</td>\n",
              "      <td>-0.000689</td>\n",
              "      <td>0.000192</td>\n",
              "      <td>-0.000205</td>\n",
              "      <td>-0.000946</td>\n",
              "    </tr>\n",
              "    <tr>\n",
              "      <th>1609459440</th>\n",
              "      <td>0.000011</td>\n",
              "      <td>-0.000175</td>\n",
              "      <td>-0.000767</td>\n",
              "      <td>-0.002209</td>\n",
              "      <td>0.000096</td>\n",
              "      <td>-0.000019</td>\n",
              "      <td>-0.000669</td>\n",
              "      <td>-0.000512</td>\n",
              "      <td>0.001351</td>\n",
              "      <td>-0.000211</td>\n",
              "      <td>0.001069</td>\n",
              "      <td>-0.001376</td>\n",
              "      <td>0.001456</td>\n",
              "      <td>-0.000187</td>\n",
              "    </tr>\n",
              "    <tr>\n",
              "      <th>1609459500</th>\n",
              "      <td>-0.002118</td>\n",
              "      <td>-0.001318</td>\n",
              "      <td>-0.001580</td>\n",
              "      <td>-0.001515</td>\n",
              "      <td>-0.000385</td>\n",
              "      <td>-0.001028</td>\n",
              "      <td>-0.001757</td>\n",
              "      <td>-0.000393</td>\n",
              "      <td>-0.001182</td>\n",
              "      <td>-0.001430</td>\n",
              "      <td>0.000046</td>\n",
              "      <td>-0.000320</td>\n",
              "      <td>0.000455</td>\n",
              "      <td>-0.000835</td>\n",
              "    </tr>\n",
              "    <tr>\n",
              "      <th>1609459560</th>\n",
              "      <td>-0.001865</td>\n",
              "      <td>0.000105</td>\n",
              "      <td>-0.000151</td>\n",
              "      <td>-0.000747</td>\n",
              "      <td>0.000128</td>\n",
              "      <td>-0.000116</td>\n",
              "      <td>0.000035</td>\n",
              "      <td>-0.001123</td>\n",
              "      <td>-0.001014</td>\n",
              "      <td>0.000026</td>\n",
              "      <td>0.000759</td>\n",
              "      <td>-0.000481</td>\n",
              "      <td>-0.000394</td>\n",
              "      <td>-0.000199</td>\n",
              "    </tr>\n",
              "  </tbody>\n",
              "</table>\n",
              "</div>\n",
              "      <button class=\"colab-df-convert\" onclick=\"convertToInteractive('df-5ce473a8-cc72-42b1-af1f-53b760dba879')\"\n",
              "              title=\"Convert this dataframe to an interactive table.\"\n",
              "              style=\"display:none;\">\n",
              "        \n",
              "  <svg xmlns=\"http://www.w3.org/2000/svg\" height=\"24px\"viewBox=\"0 0 24 24\"\n",
              "       width=\"24px\">\n",
              "    <path d=\"M0 0h24v24H0V0z\" fill=\"none\"/>\n",
              "    <path d=\"M18.56 5.44l.94 2.06.94-2.06 2.06-.94-2.06-.94-.94-2.06-.94 2.06-2.06.94zm-11 1L8.5 8.5l.94-2.06 2.06-.94-2.06-.94L8.5 2.5l-.94 2.06-2.06.94zm10 10l.94 2.06.94-2.06 2.06-.94-2.06-.94-.94-2.06-.94 2.06-2.06.94z\"/><path d=\"M17.41 7.96l-1.37-1.37c-.4-.4-.92-.59-1.43-.59-.52 0-1.04.2-1.43.59L10.3 9.45l-7.72 7.72c-.78.78-.78 2.05 0 2.83L4 21.41c.39.39.9.59 1.41.59.51 0 1.02-.2 1.41-.59l7.78-7.78 2.81-2.81c.8-.78.8-2.07 0-2.86zM5.41 20L4 18.59l7.72-7.72 1.47 1.35L5.41 20z\"/>\n",
              "  </svg>\n",
              "      </button>\n",
              "      \n",
              "  <style>\n",
              "    .colab-df-container {\n",
              "      display:flex;\n",
              "      flex-wrap:wrap;\n",
              "      gap: 12px;\n",
              "    }\n",
              "\n",
              "    .colab-df-convert {\n",
              "      background-color: #E8F0FE;\n",
              "      border: none;\n",
              "      border-radius: 50%;\n",
              "      cursor: pointer;\n",
              "      display: none;\n",
              "      fill: #1967D2;\n",
              "      height: 32px;\n",
              "      padding: 0 0 0 0;\n",
              "      width: 32px;\n",
              "    }\n",
              "\n",
              "    .colab-df-convert:hover {\n",
              "      background-color: #E2EBFA;\n",
              "      box-shadow: 0px 1px 2px rgba(60, 64, 67, 0.3), 0px 1px 3px 1px rgba(60, 64, 67, 0.15);\n",
              "      fill: #174EA6;\n",
              "    }\n",
              "\n",
              "    [theme=dark] .colab-df-convert {\n",
              "      background-color: #3B4455;\n",
              "      fill: #D2E3FC;\n",
              "    }\n",
              "\n",
              "    [theme=dark] .colab-df-convert:hover {\n",
              "      background-color: #434B5C;\n",
              "      box-shadow: 0px 1px 3px 1px rgba(0, 0, 0, 0.15);\n",
              "      filter: drop-shadow(0px 1px 2px rgba(0, 0, 0, 0.3));\n",
              "      fill: #FFFFFF;\n",
              "    }\n",
              "  </style>\n",
              "\n",
              "      <script>\n",
              "        const buttonEl =\n",
              "          document.querySelector('#df-5ce473a8-cc72-42b1-af1f-53b760dba879 button.colab-df-convert');\n",
              "        buttonEl.style.display =\n",
              "          google.colab.kernel.accessAllowed ? 'block' : 'none';\n",
              "\n",
              "        async function convertToInteractive(key) {\n",
              "          const element = document.querySelector('#df-5ce473a8-cc72-42b1-af1f-53b760dba879');\n",
              "          const dataTable =\n",
              "            await google.colab.kernel.invokeFunction('convertToInteractive',\n",
              "                                                     [key], {});\n",
              "          if (!dataTable) return;\n",
              "\n",
              "          const docLinkHtml = 'Like what you see? Visit the ' +\n",
              "            '<a target=\"_blank\" href=https://colab.research.google.com/notebooks/data_table.ipynb>data table notebook</a>'\n",
              "            + ' to learn more about interactive tables.';\n",
              "          element.innerHTML = '';\n",
              "          dataTable['output_type'] = 'display_data';\n",
              "          await google.colab.output.renderOutput(dataTable, element);\n",
              "          const docLink = document.createElement('div');\n",
              "          docLink.innerHTML = docLinkHtml;\n",
              "          element.appendChild(docLink);\n",
              "        }\n",
              "      </script>\n",
              "    </div>\n",
              "  </div>\n",
              "  "
            ],
            "text/plain": [
              "               Close  CloseBitcoin  ...  CloseStellar  CloseTRON\n",
              "timestamp                           ...                         \n",
              "1609459320 -0.001544     -0.001014  ...     -0.004668  -0.000697\n",
              "1609459380 -0.001067      0.000090  ...     -0.000205  -0.000946\n",
              "1609459440  0.000011     -0.000175  ...      0.001456  -0.000187\n",
              "1609459500 -0.002118     -0.001318  ...      0.000455  -0.000835\n",
              "1609459560 -0.001865      0.000105  ...     -0.000394  -0.000199\n",
              "\n",
              "[5 rows x 14 columns]"
            ]
          },
          "metadata": {},
          "execution_count": 12
        }
      ]
    },
    {
      "cell_type": "code",
      "source": [
        "# 암호화폐 간 연관성은 상당하다. 모든 암화화폐가 연결되어 있는 것처럼 보이지만, \n",
        "# 게임 무버가 숨어있을 가능성이 크다. 유력한 후보 : Bitcoin.\n",
        "all_assets_corr = all_assets_2021.corr()\n",
        "sns.set( rc = {'figure.figsize':(10, 8)} )\n",
        "sns.heatmap(all_assets_corr)\n",
        "plt.title('Correlation of Each other crypto currencies')\n",
        "plt.show()"
      ],
      "metadata": {
        "colab": {
          "base_uri": "https://localhost:8080/",
          "height": 616
        },
        "id": "6Oaheje8fZYL",
        "outputId": "d45f1a73-8854-4a66-ace9-cdf77d965190"
      },
      "execution_count": null,
      "outputs": [
        {
          "output_type": "display_data",
          "data": {
            "image/png": "[encoded data removed]",
            "text/plain": [
              "<Figure size 720x576 with 2 Axes>"
            ]
          },
          "metadata": {}
        }
      ]
    },
    {
      "cell_type": "code",
      "source": [
        "# Granger Causality in Time Series\n",
        "# but before using this way, should check the data is stationary. if not stationary, will transform\n",
        "# ADF test\n",
        "from statsmodels.tsa.stattools import adfuller\n",
        "\n",
        "all_assets_2021_trans = all_assets_2021.diff().dropna()\n",
        "all_assets_2021_trans = all_assets_2021_trans.iloc[1:]\n",
        "\n",
        "# not_stationary = []\n",
        "# for i in list(all_assets_2021.columns):\n",
        "#   print(f'------------{i}------------')\n",
        "#   result = adfuller(all_assets_2021[i])\n",
        "#   print(f'p-value: {result[1]}')\n",
        "#   if result[1] > 0.05:\n",
        "#       print(\"Series is not stationary\")\n",
        "#       not_stationary.append(i)\n",
        "#   else:\n",
        "#       print(\"Series is stationary\") \n",
        "\n",
        "# print(not_stationary)"
      ],
      "metadata": {
        "id": "1sBtBGbB-rIx"
      },
      "execution_count": null,
      "outputs": []
    },
    {
      "cell_type": "code",
      "source": [
        "# Granger Cauality\n",
        "from statsmodels.tsa.stattools import grangercausalitytests\n",
        "\n",
        "grangercausalitytests(all_assets_2021_trans[['CloseBitcoin', 'CloseEthereum']], maxlag=10, verbose=False)"
      ],
      "metadata": {
        "id": "EFx6iBHoI4cp"
      },
      "execution_count": null,
      "outputs": []
    },
    {
      "cell_type": "code",
      "source": [
        "# Granger Cauality\n",
        "# ...? they move altogether\n",
        "from statsmodels.tsa.stattools import grangercausalitytests\n",
        "\n",
        "maxlag = 10\n",
        "test = 'ssr_chi2test'\n",
        "def grangers_casuality (train, variables, test = 'ssr_chi2test', verbose=False):\n",
        "  dataset = pd.DataFrame(np.zeros((len(variables), len(variables))), columns= variables, index=variables)\n",
        "  for c in dataset.columns:\n",
        "    for r in dataset.index:\n",
        "      test_result = grangercausalitytests(all_assets_2021_trans[[r, c]], maxlag=maxlag, verbose=False)\n",
        "      p_values = [round(test_result[i+1][0][test][1], 4) for i in range(maxlag)]\n",
        "      if verbose : print(f' Y={r}, X={c}, P valuse={p_values}')\n",
        "      min_p_values = np.min(p_values)\n",
        "      dataset.loc[r,c] = min_p_values\n",
        "\n",
        "  dataset.columns = [var + '_x' for var in variables]\n",
        "  dataset.index = [var + '_x' for var in variables]\n",
        "\n",
        "  return dataset\n",
        "\n",
        "grangers_casuality(all_assets_2021_trans, variables = all_assets_2021_trans.columns)"
      ],
      "metadata": {
        "colab": {
          "base_uri": "https://localhost:8080/",
          "height": 604
        },
        "id": "8UPCF3SX_2UY",
        "outputId": "f4788374-a066-4a3d-9f53-f72c634fcaed"
      },
      "execution_count": null,
      "outputs": [
        {
          "output_type": "execute_result",
          "data": {
            "text/html": [
              "\n",
              "  <div id=\"df-fb35d087-84ae-426b-974f-9feb9c631e10\">\n",
              "    <div class=\"colab-df-container\">\n",
              "      <div>\n",
              "<style scoped>\n",
              "    .dataframe tbody tr th:only-of-type {\n",
              "        vertical-align: middle;\n",
              "    }\n",
              "\n",
              "    .dataframe tbody tr th {\n",
              "        vertical-align: top;\n",
              "    }\n",
              "\n",
              "    .dataframe thead th {\n",
              "        text-align: right;\n",
              "    }\n",
              "</style>\n",
              "<table border=\"1\" class=\"dataframe\">\n",
              "  <thead>\n",
              "    <tr style=\"text-align: right;\">\n",
              "      <th></th>\n",
              "      <th>Close_x</th>\n",
              "      <th>CloseBitcoin_x</th>\n",
              "      <th>CloseBitcoin Cash_x</th>\n",
              "      <th>CloseCardano_x</th>\n",
              "      <th>CloseDogecoin_x</th>\n",
              "      <th>CloseEOS.IO_x</th>\n",
              "      <th>CloseEthereum_x</th>\n",
              "      <th>CloseEthereum Classic_x</th>\n",
              "      <th>CloseIOTA_x</th>\n",
              "      <th>CloseLitecoin_x</th>\n",
              "      <th>CloseMaker_x</th>\n",
              "      <th>CloseMonero_x</th>\n",
              "      <th>CloseStellar_x</th>\n",
              "      <th>CloseTRON_x</th>\n",
              "    </tr>\n",
              "  </thead>\n",
              "  <tbody>\n",
              "    <tr>\n",
              "      <th>Close_x</th>\n",
              "      <td>1.0</td>\n",
              "      <td>0.0</td>\n",
              "      <td>0.0</td>\n",
              "      <td>0.0</td>\n",
              "      <td>0.0002</td>\n",
              "      <td>0.0</td>\n",
              "      <td>0.0</td>\n",
              "      <td>0.0000</td>\n",
              "      <td>0.0000</td>\n",
              "      <td>0.0</td>\n",
              "      <td>0.0</td>\n",
              "      <td>0.0</td>\n",
              "      <td>0.0</td>\n",
              "      <td>0.0</td>\n",
              "    </tr>\n",
              "    <tr>\n",
              "      <th>CloseBitcoin_x</th>\n",
              "      <td>0.0</td>\n",
              "      <td>1.0</td>\n",
              "      <td>0.0</td>\n",
              "      <td>0.0</td>\n",
              "      <td>0.0000</td>\n",
              "      <td>0.0</td>\n",
              "      <td>0.0</td>\n",
              "      <td>0.0005</td>\n",
              "      <td>0.0002</td>\n",
              "      <td>0.0</td>\n",
              "      <td>0.0</td>\n",
              "      <td>0.0</td>\n",
              "      <td>0.0</td>\n",
              "      <td>0.0</td>\n",
              "    </tr>\n",
              "    <tr>\n",
              "      <th>CloseBitcoin Cash_x</th>\n",
              "      <td>0.0</td>\n",
              "      <td>0.0</td>\n",
              "      <td>1.0</td>\n",
              "      <td>0.0</td>\n",
              "      <td>0.0000</td>\n",
              "      <td>0.0</td>\n",
              "      <td>0.0</td>\n",
              "      <td>0.0000</td>\n",
              "      <td>0.0000</td>\n",
              "      <td>0.0</td>\n",
              "      <td>0.0</td>\n",
              "      <td>0.0</td>\n",
              "      <td>0.0</td>\n",
              "      <td>0.0</td>\n",
              "    </tr>\n",
              "    <tr>\n",
              "      <th>CloseCardano_x</th>\n",
              "      <td>0.0</td>\n",
              "      <td>0.0</td>\n",
              "      <td>0.0</td>\n",
              "      <td>1.0</td>\n",
              "      <td>0.0001</td>\n",
              "      <td>0.0</td>\n",
              "      <td>0.0</td>\n",
              "      <td>0.0000</td>\n",
              "      <td>0.0000</td>\n",
              "      <td>0.0</td>\n",
              "      <td>0.0</td>\n",
              "      <td>0.0</td>\n",
              "      <td>0.0</td>\n",
              "      <td>0.0</td>\n",
              "    </tr>\n",
              "    <tr>\n",
              "      <th>CloseDogecoin_x</th>\n",
              "      <td>0.0</td>\n",
              "      <td>0.0</td>\n",
              "      <td>0.0</td>\n",
              "      <td>0.0</td>\n",
              "      <td>1.0000</td>\n",
              "      <td>0.0</td>\n",
              "      <td>0.0</td>\n",
              "      <td>0.0005</td>\n",
              "      <td>0.0000</td>\n",
              "      <td>0.0</td>\n",
              "      <td>0.0</td>\n",
              "      <td>0.0</td>\n",
              "      <td>0.0</td>\n",
              "      <td>0.0</td>\n",
              "    </tr>\n",
              "    <tr>\n",
              "      <th>CloseEOS.IO_x</th>\n",
              "      <td>0.0</td>\n",
              "      <td>0.0</td>\n",
              "      <td>0.0</td>\n",
              "      <td>0.0</td>\n",
              "      <td>0.0000</td>\n",
              "      <td>1.0</td>\n",
              "      <td>0.0</td>\n",
              "      <td>0.0000</td>\n",
              "      <td>0.0000</td>\n",
              "      <td>0.0</td>\n",
              "      <td>0.0</td>\n",
              "      <td>0.0</td>\n",
              "      <td>0.0</td>\n",
              "      <td>0.0</td>\n",
              "    </tr>\n",
              "    <tr>\n",
              "      <th>CloseEthereum_x</th>\n",
              "      <td>0.0</td>\n",
              "      <td>0.0</td>\n",
              "      <td>0.0</td>\n",
              "      <td>0.0</td>\n",
              "      <td>0.0000</td>\n",
              "      <td>0.0</td>\n",
              "      <td>1.0</td>\n",
              "      <td>0.0000</td>\n",
              "      <td>0.0000</td>\n",
              "      <td>0.0</td>\n",
              "      <td>0.0</td>\n",
              "      <td>0.0</td>\n",
              "      <td>0.0</td>\n",
              "      <td>0.0</td>\n",
              "    </tr>\n",
              "    <tr>\n",
              "      <th>CloseEthereum Classic_x</th>\n",
              "      <td>0.0</td>\n",
              "      <td>0.0</td>\n",
              "      <td>0.0</td>\n",
              "      <td>0.0</td>\n",
              "      <td>0.0000</td>\n",
              "      <td>0.0</td>\n",
              "      <td>0.0</td>\n",
              "      <td>1.0000</td>\n",
              "      <td>0.0000</td>\n",
              "      <td>0.0</td>\n",
              "      <td>0.0</td>\n",
              "      <td>0.0</td>\n",
              "      <td>0.0</td>\n",
              "      <td>0.0</td>\n",
              "    </tr>\n",
              "    <tr>\n",
              "      <th>CloseIOTA_x</th>\n",
              "      <td>0.0</td>\n",
              "      <td>0.0</td>\n",
              "      <td>0.0</td>\n",
              "      <td>0.0</td>\n",
              "      <td>0.0000</td>\n",
              "      <td>0.0</td>\n",
              "      <td>0.0</td>\n",
              "      <td>0.0000</td>\n",
              "      <td>1.0000</td>\n",
              "      <td>0.0</td>\n",
              "      <td>0.0</td>\n",
              "      <td>0.0</td>\n",
              "      <td>0.0</td>\n",
              "      <td>0.0</td>\n",
              "    </tr>\n",
              "    <tr>\n",
              "      <th>CloseLitecoin_x</th>\n",
              "      <td>0.0</td>\n",
              "      <td>0.0</td>\n",
              "      <td>0.0</td>\n",
              "      <td>0.0</td>\n",
              "      <td>0.0000</td>\n",
              "      <td>0.0</td>\n",
              "      <td>0.0</td>\n",
              "      <td>0.0000</td>\n",
              "      <td>0.0000</td>\n",
              "      <td>1.0</td>\n",
              "      <td>0.0</td>\n",
              "      <td>0.0</td>\n",
              "      <td>0.0</td>\n",
              "      <td>0.0</td>\n",
              "    </tr>\n",
              "    <tr>\n",
              "      <th>CloseMaker_x</th>\n",
              "      <td>0.0</td>\n",
              "      <td>0.0</td>\n",
              "      <td>0.0</td>\n",
              "      <td>0.0</td>\n",
              "      <td>0.0000</td>\n",
              "      <td>0.0</td>\n",
              "      <td>0.0</td>\n",
              "      <td>0.0000</td>\n",
              "      <td>0.0000</td>\n",
              "      <td>0.0</td>\n",
              "      <td>1.0</td>\n",
              "      <td>0.0</td>\n",
              "      <td>0.0</td>\n",
              "      <td>0.0</td>\n",
              "    </tr>\n",
              "    <tr>\n",
              "      <th>CloseMonero_x</th>\n",
              "      <td>0.0</td>\n",
              "      <td>0.0</td>\n",
              "      <td>0.0</td>\n",
              "      <td>0.0</td>\n",
              "      <td>0.0000</td>\n",
              "      <td>0.0</td>\n",
              "      <td>0.0</td>\n",
              "      <td>0.0000</td>\n",
              "      <td>0.0000</td>\n",
              "      <td>0.0</td>\n",
              "      <td>0.0</td>\n",
              "      <td>1.0</td>\n",
              "      <td>0.0</td>\n",
              "      <td>0.0</td>\n",
              "    </tr>\n",
              "    <tr>\n",
              "      <th>CloseStellar_x</th>\n",
              "      <td>0.0</td>\n",
              "      <td>0.0</td>\n",
              "      <td>0.0</td>\n",
              "      <td>0.0</td>\n",
              "      <td>0.0000</td>\n",
              "      <td>0.0</td>\n",
              "      <td>0.0</td>\n",
              "      <td>0.0000</td>\n",
              "      <td>0.0000</td>\n",
              "      <td>0.0</td>\n",
              "      <td>0.0</td>\n",
              "      <td>0.0</td>\n",
              "      <td>1.0</td>\n",
              "      <td>0.0</td>\n",
              "    </tr>\n",
              "    <tr>\n",
              "      <th>CloseTRON_x</th>\n",
              "      <td>0.0</td>\n",
              "      <td>0.0</td>\n",
              "      <td>0.0</td>\n",
              "      <td>0.0</td>\n",
              "      <td>0.0000</td>\n",
              "      <td>0.0</td>\n",
              "      <td>0.0</td>\n",
              "      <td>0.0000</td>\n",
              "      <td>0.0000</td>\n",
              "      <td>0.0</td>\n",
              "      <td>0.0</td>\n",
              "      <td>0.0</td>\n",
              "      <td>0.0</td>\n",
              "      <td>1.0</td>\n",
              "    </tr>\n",
              "  </tbody>\n",
              "</table>\n",
              "</div>\n",
              "      <button class=\"colab-df-convert\" onclick=\"convertToInteractive('df-fb35d087-84ae-426b-974f-9feb9c631e10')\"\n",
              "              title=\"Convert this dataframe to an interactive table.\"\n",
              "              style=\"display:none;\">\n",
              "        \n",
              "  <svg xmlns=\"http://www.w3.org/2000/svg\" height=\"24px\"viewBox=\"0 0 24 24\"\n",
              "       width=\"24px\">\n",
              "    <path d=\"M0 0h24v24H0V0z\" fill=\"none\"/>\n",
              "    <path d=\"M18.56 5.44l.94 2.06.94-2.06 2.06-.94-2.06-.94-.94-2.06-.94 2.06-2.06.94zm-11 1L8.5 8.5l.94-2.06 2.06-.94-2.06-.94L8.5 2.5l-.94 2.06-2.06.94zm10 10l.94 2.06.94-2.06 2.06-.94-2.06-.94-.94-2.06-.94 2.06-2.06.94z\"/><path d=\"M17.41 7.96l-1.37-1.37c-.4-.4-.92-.59-1.43-.59-.52 0-1.04.2-1.43.59L10.3 9.45l-7.72 7.72c-.78.78-.78 2.05 0 2.83L4 21.41c.39.39.9.59 1.41.59.51 0 1.02-.2 1.41-.59l7.78-7.78 2.81-2.81c.8-.78.8-2.07 0-2.86zM5.41 20L4 18.59l7.72-7.72 1.47 1.35L5.41 20z\"/>\n",
              "  </svg>\n",
              "      </button>\n",
              "      \n",
              "  <style>\n",
              "    .colab-df-container {\n",
              "      display:flex;\n",
              "      flex-wrap:wrap;\n",
              "      gap: 12px;\n",
              "    }\n",
              "\n",
              "    .colab-df-convert {\n",
              "      background-color: #E8F0FE;\n",
              "      border: none;\n",
              "      border-radius: 50%;\n",
              "      cursor: pointer;\n",
              "      display: none;\n",
              "      fill: #1967D2;\n",
              "      height: 32px;\n",
              "      padding: 0 0 0 0;\n",
              "      width: 32px;\n",
              "    }\n",
              "\n",
              "    .colab-df-convert:hover {\n",
              "      background-color: #E2EBFA;\n",
              "      box-shadow: 0px 1px 2px rgba(60, 64, 67, 0.3), 0px 1px 3px 1px rgba(60, 64, 67, 0.15);\n",
              "      fill: #174EA6;\n",
              "    }\n",
              "\n",
              "    [theme=dark] .colab-df-convert {\n",
              "      background-color: #3B4455;\n",
              "      fill: #D2E3FC;\n",
              "    }\n",
              "\n",
              "    [theme=dark] .colab-df-convert:hover {\n",
              "      background-color: #434B5C;\n",
              "      box-shadow: 0px 1px 3px 1px rgba(0, 0, 0, 0.15);\n",
              "      filter: drop-shadow(0px 1px 2px rgba(0, 0, 0, 0.3));\n",
              "      fill: #FFFFFF;\n",
              "    }\n",
              "  </style>\n",
              "\n",
              "      <script>\n",
              "        const buttonEl =\n",
              "          document.querySelector('#df-fb35d087-84ae-426b-974f-9feb9c631e10 button.colab-df-convert');\n",
              "        buttonEl.style.display =\n",
              "          google.colab.kernel.accessAllowed ? 'block' : 'none';\n",
              "\n",
              "        async function convertToInteractive(key) {\n",
              "          const element = document.querySelector('#df-fb35d087-84ae-426b-974f-9feb9c631e10');\n",
              "          const dataTable =\n",
              "            await google.colab.kernel.invokeFunction('convertToInteractive',\n",
              "                                                     [key], {});\n",
              "          if (!dataTable) return;\n",
              "\n",
              "          const docLinkHtml = 'Like what you see? Visit the ' +\n",
              "            '<a target=\"_blank\" href=https://colab.research.google.com/notebooks/data_table.ipynb>data table notebook</a>'\n",
              "            + ' to learn more about interactive tables.';\n",
              "          element.innerHTML = '';\n",
              "          dataTable['output_type'] = 'display_data';\n",
              "          await google.colab.output.renderOutput(dataTable, element);\n",
              "          const docLink = document.createElement('div');\n",
              "          docLink.innerHTML = docLinkHtml;\n",
              "          element.appendChild(docLink);\n",
              "        }\n",
              "      </script>\n",
              "    </div>\n",
              "  </div>\n",
              "  "
            ],
            "text/plain": [
              "                         Close_x  CloseBitcoin_x  ...  CloseStellar_x  CloseTRON_x\n",
              "Close_x                      1.0             0.0  ...             0.0          0.0\n",
              "CloseBitcoin_x               0.0             1.0  ...             0.0          0.0\n",
              "CloseBitcoin Cash_x          0.0             0.0  ...             0.0          0.0\n",
              "CloseCardano_x               0.0             0.0  ...             0.0          0.0\n",
              "CloseDogecoin_x              0.0             0.0  ...             0.0          0.0\n",
              "CloseEOS.IO_x                0.0             0.0  ...             0.0          0.0\n",
              "CloseEthereum_x              0.0             0.0  ...             0.0          0.0\n",
              "CloseEthereum Classic_x      0.0             0.0  ...             0.0          0.0\n",
              "CloseIOTA_x                  0.0             0.0  ...             0.0          0.0\n",
              "CloseLitecoin_x              0.0             0.0  ...             0.0          0.0\n",
              "CloseMaker_x                 0.0             0.0  ...             0.0          0.0\n",
              "CloseMonero_x                0.0             0.0  ...             0.0          0.0\n",
              "CloseStellar_x               0.0             0.0  ...             1.0          0.0\n",
              "CloseTRON_x                  0.0             0.0  ...             0.0          1.0\n",
              "\n",
              "[14 rows x 14 columns]"
            ]
          },
          "metadata": {},
          "execution_count": 29
        }
      ]
    },
    {
      "cell_type": "markdown",
      "source": [
        "3. moving_average\n",
        "\n"
      ],
      "metadata": {
        "id": "K-ruvCuoL9jd"
      }
    },
    {
      "cell_type": "code",
      "source": [
        "# moving_average\n",
        "#[bin, btc, btc_c, cda, dog, eos, eth, eth_c, lot, lit, mak, mon, ste, tro]\n",
        "moving_average = btc['Close'].rolling(window=7200).mean()\n",
        "# btc_c['moving_average'] = btc_c['Close'].rolling(window=7200).mean()\n",
        "# eth['moving_average'] = eth['Close'].rolling(window=7200).mean()\n",
        "# eth_c['moving_average'] = eth_c['Close'].rolling(window=7200).mean()\n",
        "# bin['moving_average'] = bin['Close'].rolling(window=7200).mean()\n",
        "# cda['moving_average'] = cda['Close'].rolling(window=7200).mean()\n",
        "# dog['moving_average'] = dog['Close'].rolling(window=7200).mean()\n",
        "# eos['moving_average'] = eos['Close'].rolling(window=7200).mean()\n",
        "# lot['moving_average'] = lot['Close'].rolling(window=7200).mean()\n",
        "# lit['moving_average'] = lit['Close'].rolling(window=7200).mean()\n",
        "# mak['moving_average'] = mak['Close'].rolling(window=7200).mean()\n",
        "# mon['moving_average'] = mon['Close'].rolling(window=7200).mean()\n",
        "# ste['moving_average'] = ste['Close'].rolling(window=7200).mean()\n",
        "# tro['moving_average'] = tro['Close'].rolling(window=7200).mean()"
      ],
      "metadata": {
        "id": "2qTAKgdxL86F"
      },
      "execution_count": null,
      "outputs": []
    },
    {
      "cell_type": "code",
      "source": [
        "# plotly graph\n",
        "# 5일 단위라서 많이 겹쳐 보인다.\n",
        "# btc_moving = btc.moving_average\n",
        "btc_close = btc.Close\n",
        "\n",
        "btc_close.plot()\n",
        "moving_average.plot()\n",
        "plt.legend(['Close', 'Moving_av'])\n",
        "plt.show()"
      ],
      "metadata": {
        "colab": {
          "base_uri": "https://localhost:8080/",
          "height": 297
        },
        "id": "b2hTnwmbOG4D",
        "outputId": "6f894c2e-2ff3-4554-ef20-1e8fc852febe"
      },
      "execution_count": null,
      "outputs": [
        {
          "output_type": "stream",
          "name": "stderr",
          "text": [
            "findfont: Font family ['NanumBarunGothic'] not found. Falling back to DejaVu Sans.\n"
          ]
        },
        {
          "output_type": "display_data",
          "data": {
            "image/png": "[encoded data removed]",
            "text/plain": [
              "<Figure size 432x288 with 1 Axes>"
            ]
          },
          "metadata": {
            "needs_background": "light"
          }
        }
      ]
    },
    {
      "cell_type": "markdown",
      "source": [
        "4. should find soaring Volume/Count for weight"
      ],
      "metadata": {
        "id": "XZ-C-rZXL9tu"
      }
    },
    {
      "cell_type": "code",
      "source": [
        "plt.figure(figsize=(6, 8))\n",
        "btc['Count'].plot()\n",
        "btc['Close'].plot()\n",
        "plt.legend(['Count', 'Close'])\n",
        "plt.show()"
      ],
      "metadata": {
        "colab": {
          "base_uri": "https://localhost:8080/",
          "height": 497
        },
        "id": "WIkl1fTMyweD",
        "outputId": "497bab1b-e977-4733-b3e0-0f81b8b8688d"
      },
      "execution_count": null,
      "outputs": [
        {
          "output_type": "display_data",
          "data": {
            "image/png": "[encoded data removed]",
            "text/plain": [
              "<Figure size 432x576 with 1 Axes>"
            ]
          },
          "metadata": {
            "needs_background": "light"
          }
        }
      ]
    },
    {
      "cell_type": "code",
      "source": [
        "plt.figure(figsize=(6, 8))\n",
        "btc['Volume'].plot()\n",
        "btc['Close'].plot()\n",
        "plt.legend(['Volume', 'Close'])\n",
        "plt.show()"
      ],
      "metadata": {
        "colab": {
          "base_uri": "https://localhost:8080/",
          "height": 496
        },
        "id": "OnBUcTFsUZ90",
        "outputId": "b1737946-cd7e-4b53-9faf-de75186dabe6"
      },
      "execution_count": null,
      "outputs": [
        {
          "output_type": "display_data",
          "data": {
            "image/png": "[encoded data removed]",
            "text/plain": [
              "<Figure size 432x576 with 1 Axes>"
            ]
          },
          "metadata": {
            "needs_background": "light"
          }
        }
      ]
    },
    {
      "cell_type": "code",
      "source": [
        "btcc = btc.copy()\n",
        "btcc['Volume_Increasing'] = round((btc['Volume'] - btc.Volume.shift())/btc.Volume.shift() * 100, 2)\n",
        "btcc['Count_Increasing'] = round((btc['Count'] - btc.Count.shift())/btc.Count.shift() * 100, 2)\n",
        "btcc.head()"
      ],
      "metadata": {
        "colab": {
          "base_uri": "https://localhost:8080/",
          "height": 302
        },
        "id": "5q_s_YYHk37d",
        "outputId": "11750525-0edb-48c7-a06b-173d36c52e0e"
      },
      "execution_count": null,
      "outputs": [
        {
          "output_type": "execute_result",
          "data": {
            "text/html": [
              "\n",
              "  <div id=\"df-9a45a1a7-88cb-4862-a162-df10988abbde\">\n",
              "    <div class=\"colab-df-container\">\n",
              "      <div>\n",
              "<style scoped>\n",
              "    .dataframe tbody tr th:only-of-type {\n",
              "        vertical-align: middle;\n",
              "    }\n",
              "\n",
              "    .dataframe tbody tr th {\n",
              "        vertical-align: top;\n",
              "    }\n",
              "\n",
              "    .dataframe thead th {\n",
              "        text-align: right;\n",
              "    }\n",
              "</style>\n",
              "<table border=\"1\" class=\"dataframe\">\n",
              "  <thead>\n",
              "    <tr style=\"text-align: right;\">\n",
              "      <th></th>\n",
              "      <th>Asset_ID</th>\n",
              "      <th>Count</th>\n",
              "      <th>Open</th>\n",
              "      <th>High</th>\n",
              "      <th>Low</th>\n",
              "      <th>Close</th>\n",
              "      <th>Volume</th>\n",
              "      <th>VWAP</th>\n",
              "      <th>Target</th>\n",
              "      <th>Volume_Increasing</th>\n",
              "      <th>Volume_weight</th>\n",
              "      <th>Count_Increasing</th>\n",
              "    </tr>\n",
              "    <tr>\n",
              "      <th>timestamp</th>\n",
              "      <th></th>\n",
              "      <th></th>\n",
              "      <th></th>\n",
              "      <th></th>\n",
              "      <th></th>\n",
              "      <th></th>\n",
              "      <th></th>\n",
              "      <th></th>\n",
              "      <th></th>\n",
              "      <th></th>\n",
              "      <th></th>\n",
              "      <th></th>\n",
              "    </tr>\n",
              "  </thead>\n",
              "  <tbody>\n",
              "    <tr>\n",
              "      <th>1514764860</th>\n",
              "      <td>1</td>\n",
              "      <td>229.0</td>\n",
              "      <td>13835.194</td>\n",
              "      <td>14013.8</td>\n",
              "      <td>13666.11</td>\n",
              "      <td>13850.176</td>\n",
              "      <td>31.550062</td>\n",
              "      <td>13827.062093</td>\n",
              "      <td>-0.014643</td>\n",
              "      <td>NaN</td>\n",
              "      <td>0</td>\n",
              "      <td>NaN</td>\n",
              "    </tr>\n",
              "    <tr>\n",
              "      <th>1514764920</th>\n",
              "      <td>1</td>\n",
              "      <td>235.0</td>\n",
              "      <td>13835.036</td>\n",
              "      <td>14052.3</td>\n",
              "      <td>13680.00</td>\n",
              "      <td>13828.102</td>\n",
              "      <td>31.046432</td>\n",
              "      <td>13840.362591</td>\n",
              "      <td>-0.015037</td>\n",
              "      <td>-1.60</td>\n",
              "      <td>0</td>\n",
              "      <td>2.62</td>\n",
              "    </tr>\n",
              "    <tr>\n",
              "      <th>1514764980</th>\n",
              "      <td>1</td>\n",
              "      <td>528.0</td>\n",
              "      <td>13823.900</td>\n",
              "      <td>14000.4</td>\n",
              "      <td>13601.00</td>\n",
              "      <td>13801.314</td>\n",
              "      <td>55.061820</td>\n",
              "      <td>13806.068014</td>\n",
              "      <td>-0.010309</td>\n",
              "      <td>77.35</td>\n",
              "      <td>0</td>\n",
              "      <td>124.68</td>\n",
              "    </tr>\n",
              "    <tr>\n",
              "      <th>1514765040</th>\n",
              "      <td>1</td>\n",
              "      <td>435.0</td>\n",
              "      <td>13802.512</td>\n",
              "      <td>13999.0</td>\n",
              "      <td>13576.28</td>\n",
              "      <td>13768.040</td>\n",
              "      <td>38.780529</td>\n",
              "      <td>13783.598101</td>\n",
              "      <td>-0.008999</td>\n",
              "      <td>-29.57</td>\n",
              "      <td>0</td>\n",
              "      <td>-17.61</td>\n",
              "    </tr>\n",
              "    <tr>\n",
              "      <th>1514765100</th>\n",
              "      <td>1</td>\n",
              "      <td>742.0</td>\n",
              "      <td>13766.000</td>\n",
              "      <td>13955.9</td>\n",
              "      <td>13554.44</td>\n",
              "      <td>13724.914</td>\n",
              "      <td>108.501637</td>\n",
              "      <td>13735.586842</td>\n",
              "      <td>-0.008079</td>\n",
              "      <td>179.78</td>\n",
              "      <td>1</td>\n",
              "      <td>70.57</td>\n",
              "    </tr>\n",
              "  </tbody>\n",
              "</table>\n",
              "</div>\n",
              "      <button class=\"colab-df-convert\" onclick=\"convertToInteractive('df-9a45a1a7-88cb-4862-a162-df10988abbde')\"\n",
              "              title=\"Convert this dataframe to an interactive table.\"\n",
              "              style=\"display:none;\">\n",
              "        \n",
              "  <svg xmlns=\"http://www.w3.org/2000/svg\" height=\"24px\"viewBox=\"0 0 24 24\"\n",
              "       width=\"24px\">\n",
              "    <path d=\"M0 0h24v24H0V0z\" fill=\"none\"/>\n",
              "    <path d=\"M18.56 5.44l.94 2.06.94-2.06 2.06-.94-2.06-.94-.94-2.06-.94 2.06-2.06.94zm-11 1L8.5 8.5l.94-2.06 2.06-.94-2.06-.94L8.5 2.5l-.94 2.06-2.06.94zm10 10l.94 2.06.94-2.06 2.06-.94-2.06-.94-.94-2.06-.94 2.06-2.06.94z\"/><path d=\"M17.41 7.96l-1.37-1.37c-.4-.4-.92-.59-1.43-.59-.52 0-1.04.2-1.43.59L10.3 9.45l-7.72 7.72c-.78.78-.78 2.05 0 2.83L4 21.41c.39.39.9.59 1.41.59.51 0 1.02-.2 1.41-.59l7.78-7.78 2.81-2.81c.8-.78.8-2.07 0-2.86zM5.41 20L4 18.59l7.72-7.72 1.47 1.35L5.41 20z\"/>\n",
              "  </svg>\n",
              "      </button>\n",
              "      \n",
              "  <style>\n",
              "    .colab-df-container {\n",
              "      display:flex;\n",
              "      flex-wrap:wrap;\n",
              "      gap: 12px;\n",
              "    }\n",
              "\n",
              "    .colab-df-convert {\n",
              "      background-color: #E8F0FE;\n",
              "      border: none;\n",
              "      border-radius: 50%;\n",
              "      cursor: pointer;\n",
              "      display: none;\n",
              "      fill: #1967D2;\n",
              "      height: 32px;\n",
              "      padding: 0 0 0 0;\n",
              "      width: 32px;\n",
              "    }\n",
              "\n",
              "    .colab-df-convert:hover {\n",
              "      background-color: #E2EBFA;\n",
              "      box-shadow: 0px 1px 2px rgba(60, 64, 67, 0.3), 0px 1px 3px 1px rgba(60, 64, 67, 0.15);\n",
              "      fill: #174EA6;\n",
              "    }\n",
              "\n",
              "    [theme=dark] .colab-df-convert {\n",
              "      background-color: #3B4455;\n",
              "      fill: #D2E3FC;\n",
              "    }\n",
              "\n",
              "    [theme=dark] .colab-df-convert:hover {\n",
              "      background-color: #434B5C;\n",
              "      box-shadow: 0px 1px 3px 1px rgba(0, 0, 0, 0.15);\n",
              "      filter: drop-shadow(0px 1px 2px rgba(0, 0, 0, 0.3));\n",
              "      fill: #FFFFFF;\n",
              "    }\n",
              "  </style>\n",
              "\n",
              "      <script>\n",
              "        const buttonEl =\n",
              "          document.querySelector('#df-9a45a1a7-88cb-4862-a162-df10988abbde button.colab-df-convert');\n",
              "        buttonEl.style.display =\n",
              "          google.colab.kernel.accessAllowed ? 'block' : 'none';\n",
              "\n",
              "        async function convertToInteractive(key) {\n",
              "          const element = document.querySelector('#df-9a45a1a7-88cb-4862-a162-df10988abbde');\n",
              "          const dataTable =\n",
              "            await google.colab.kernel.invokeFunction('convertToInteractive',\n",
              "                                                     [key], {});\n",
              "          if (!dataTable) return;\n",
              "\n",
              "          const docLinkHtml = 'Like what you see? Visit the ' +\n",
              "            '<a target=\"_blank\" href=https://colab.research.google.com/notebooks/data_table.ipynb>data table notebook</a>'\n",
              "            + ' to learn more about interactive tables.';\n",
              "          element.innerHTML = '';\n",
              "          dataTable['output_type'] = 'display_data';\n",
              "          await google.colab.output.renderOutput(dataTable, element);\n",
              "          const docLink = document.createElement('div');\n",
              "          docLink.innerHTML = docLinkHtml;\n",
              "          element.appendChild(docLink);\n",
              "        }\n",
              "      </script>\n",
              "    </div>\n",
              "  </div>\n",
              "  "
            ],
            "text/plain": [
              "            Asset_ID  Count  ...  Volume_weight  Count_Increasing\n",
              "timestamp                    ...                                 \n",
              "1514764860         1  229.0  ...              0               NaN\n",
              "1514764920         1  235.0  ...              0              2.62\n",
              "1514764980         1  528.0  ...              0            124.68\n",
              "1514765040         1  435.0  ...              0            -17.61\n",
              "1514765100         1  742.0  ...              1             70.57\n",
              "\n",
              "[5 rows x 12 columns]"
            ]
          },
          "metadata": {},
          "execution_count": 91
        }
      ]
    },
    {
      "cell_type": "code",
      "source": [
        "btcc_normalization = btcc.Volume_Increasing.div(btcc.Volume_Increasing.iloc[0]).mul(100)\n",
        "Close_normalization = btcc.Close.div(btcc.Close.iloc[0]).mul(100)\n",
        "\n",
        "\n",
        "plt.figure(figsize=(6, 8))\n",
        "plt.subplot(3,1,1)\n",
        "btcc['Volume_Increasing'][500:1000].plot()\n",
        "plt.legend(['Volume_Increasing'])\n",
        "plt.show()\n",
        "\n",
        "plt.figure(figsize=(6, 8))\n",
        "plt.subplot(3,1,2)\n",
        "btcc['Count_Increasing'][500:1000].plot()\n",
        "plt.legend(['Count_Increasing'])\n",
        "plt.show()\n",
        "\n",
        "plt.figure(figsize=(6, 8))\n",
        "plt.subplot(3,1,3)\n",
        "Close_normalization[500:1000].plot()\n",
        "plt.legend(['Close'])\n",
        "plt.show()"
      ],
      "metadata": {
        "colab": {
          "base_uri": "https://localhost:8080/",
          "height": 536
        },
        "id": "BQvIygi2o6Br",
        "outputId": "ddd98017-1c84-4914-d013-14d77df5ab51"
      },
      "execution_count": null,
      "outputs": [
        {
          "output_type": "display_data",
          "data": {
            "image/png": "[encoded data removed]",
            "text/plain": [
              "<Figure size 432x576 with 1 Axes>"
            ]
          },
          "metadata": {
            "needs_background": "light"
          }
        },
        {
          "output_type": "display_data",
          "data": {
            "image/png": "[encoded data removed]",
            "text/plain": [
              "<Figure size 432x576 with 1 Axes>"
            ]
          },
          "metadata": {
            "needs_background": "light"
          }
        },
        {
          "output_type": "display_data",
          "data": {
            "image/png": "[encoded data removed]",
            "text/plain": [
              "<Figure size 432x576 with 1 Axes>"
            ]
          },
          "metadata": {
            "needs_background": "light"
          }
        }
      ]
    },
    {
      "cell_type": "markdown",
      "source": [
        "5. Corelation in dataframe"
      ],
      "metadata": {
        "id": "jltrw0-EXV9X"
      }
    },
    {
      "cell_type": "code",
      "source": [
        "btc_corr = btc.corr()\n",
        "\n",
        "sns.set( rc = {'figure.figsize':(8, 8)} )\n",
        "sns.heatmap(btc_corr)\n",
        "plt.title('Corelation in dataframe')\n",
        "plt.show()"
      ],
      "metadata": {
        "colab": {
          "base_uri": "https://localhost:8080/",
          "height": 538
        },
        "id": "0xgLqJGjXVRX",
        "outputId": "9b842d5a-ab5c-4270-cd04-9c157be29d1b"
      },
      "execution_count": null,
      "outputs": [
        {
          "output_type": "display_data",
          "data": {
            "image/png": "[encoded data removed]",
            "text/plain": [
              "<Figure size 576x576 with 2 Axes>"
            ]
          },
          "metadata": {}
        }
      ]
    },
    {
      "cell_type": "markdown",
      "source": [
        "# **III. 데이터 Featuring**\n",
        "\n",
        "---\n",
        "\n"
      ],
      "metadata": {
        "id": "iW5q-78yTd_T"
      }
    },
    {
      "cell_type": "markdown",
      "source": [
        "[ Specify variable ]\n",
        "\n",
        "- Bilateral Filter(open, close, low, high)\n",
        "- vmp\n",
        "- volume\n",
        "- volume_increasing\n",
        "- volume_weight\n",
        "- upper_shadow\n",
        "- lower_shadow"
      ],
      "metadata": {
        "id": "UWdtcSWUNLjl"
      }
    },
    {
      "cell_type": "markdown",
      "source": [
        "0. Removing NaN"
      ],
      "metadata": {
        "id": "lXB4mlrTLD7-"
      }
    },
    {
      "cell_type": "code",
      "source": [
        "from tqdm import tqdm\n",
        "\n",
        "def remove_nan(df):\n",
        "\n",
        "  R = list()\n",
        "  c = list(df['Close'])                                 # 코인 종료값 리스트\n",
        "  for i in range(df.shape[0]):\n",
        "    future = c[min([i+16, df.shape[0]-1])]              # (16분 후 ~ 끝시점) 중의 최솟값\n",
        "    past = c[min([i+1, df.shape[0]-1])]                 # (1분 후 ~ 끝시점) 중의 최솟값\n",
        "    R.append(future/past)\n",
        "  R = np.array(R)\n",
        "\n",
        "  df['pred'] = R - 1\n",
        "  j = np.array(list(df['Target'].isnull()))\n",
        "  new_targets = np.where(j, df['pred'], df['Target'])\n",
        "  df['Target'] = new_targets\n",
        "  # inf to close value\n",
        "  df['VWAP'] = df['VWAP'].replace([np.inf, -np.inf], np.nan)\n",
        "  # nan to 'Close'\n",
        "  df['VWAP'] = df['VWAP'].fillna(df['Close'])\n",
        "  return df"
      ],
      "metadata": {
        "id": "bPUV3UuYcqiX"
      },
      "execution_count": null,
      "outputs": []
    },
    {
      "cell_type": "markdown",
      "source": [
        "1. upper shadow, lower shadow"
      ],
      "metadata": {
        "id": "6UoY_6wiJzyd"
      }
    },
    {
      "cell_type": "code",
      "source": [
        "def upper_shadow(df):\n",
        "  return df['High'] - np.maximum(df['Close'], df['Open'])\n",
        "\n",
        "def lower_shadow(df):\n",
        "  return np.minimum(df['Close'], df['Open'] - df['Low'])\n",
        "\n",
        "def get_feature(df):\n",
        "  df_get = df[['Asset_ID', 'Count', 'Open', 'High', 'Low', 'Close', 'Volume', 'VWAP', 'Target']].copy()\n",
        "  df_get['Upper_shadow'] = upper_shadow(df_get)\n",
        "  df_get['Lower_shadow'] = lower_shadow(df_get)\n",
        "  return df_get"
      ],
      "metadata": {
        "id": "Wc1BkCfVJ44c"
      },
      "execution_count": null,
      "outputs": []
    },
    {
      "cell_type": "markdown",
      "source": [
        "2. timestamp -> gap 60"
      ],
      "metadata": {
        "id": "mkuf7yK0WzlY"
      }
    },
    {
      "cell_type": "code",
      "source": [
        "def timestamp_gap(df):\n",
        "  df_range = range(df.index[0], df.index[-1] + 60, 60)\n",
        "  df_timestamp = df.reindex(df_range, method='pad')\n",
        "  return df_timestamp"
      ],
      "metadata": {
        "id": "afyFde20WzOY"
      },
      "execution_count": null,
      "outputs": []
    },
    {
      "cell_type": "markdown",
      "source": [
        "3. Soaring_Volume"
      ],
      "metadata": {
        "id": "vArw-pPjqvv8"
      }
    },
    {
      "cell_type": "code",
      "source": [
        "def soaring_volume(df):\n",
        "  df['Volume_Increasing'] = round((df['Volume'] - df.Volume.shift())/df.Volume.shift(), 4)\n",
        "  # inf to close value\n",
        "  df['Volume_Increasing'] = df['Volume_Increasing'].replace([np.inf, -np.inf], 0)\n",
        "  df['Count_Increasing'] = round((df['Count'] - df.Count.shift())/df.Count.shift(), 4)\n",
        "  df['Volume_weight'] = [float(i) for i in [ 1 if s > 0.3 else 0 for s in df['Volume_Increasing']]]                   # 거래량이 증가할 때 가격의 변동성이 더욱 커지는 경향이 있다. \n",
        "  return df"
      ],
      "metadata": {
        "id": "pBPy2VTAq3rF"
      },
      "execution_count": null,
      "outputs": []
    },
    {
      "cell_type": "markdown",
      "source": [
        "4. Kalman algorithm (open, close, low, high)\n",
        "\n"
      ],
      "metadata": {
        "id": "C8boxPoTTPpP"
      }
    },
    {
      "cell_type": "code",
      "source": [
        "# ! pip install filterpy"
      ],
      "metadata": {
        "id": "TzLiATKgJXnk"
      },
      "execution_count": null,
      "outputs": []
    },
    {
      "cell_type": "code",
      "source": [
        "# from filterpy.kalman import KalmanFilter\n",
        "# kf = KalmanFilter(dim_x=3, dim_z=1)"
      ],
      "metadata": {
        "id": "qrAjAyKcJemT"
      },
      "execution_count": null,
      "outputs": []
    },
    {
      "cell_type": "markdown",
      "source": [
        "5. Removing Outliers (X)"
      ],
      "metadata": {
        "id": "R6MfszUabtfM"
      }
    },
    {
      "cell_type": "code",
      "source": [
        "# financial time series is data of trading. \n",
        "# Outliers in this dataframe is not error, just trading record. \n",
        "# so worried about breaking sequence. \n",
        "\n",
        "# def remove_outlier(df):\n",
        "#   threshold = 3\n",
        "#   mean = np.mean(df['VWAP'])\n",
        "#   std = np.std(df['VWAP'])\n",
        "#   z_score = [y for y in df['VWAP'] if abs((y-mean)/std) > 3]\n",
        "#   out_df = df[df['VWAP'].isin(z_score)]\n",
        "#   return out_df\n",
        "\n",
        "# out_list = remove_outlier(btc)\n",
        "# out_list.head()\n",
        "\n",
        "# # out_lier visualizaiton\n",
        "# btc.VWAP.plot()\n",
        "# out_list.VWAP.plot()\n",
        "# plt.show()"
      ],
      "metadata": {
        "id": "ha10CMj5pRAe"
      },
      "execution_count": null,
      "outputs": []
    },
    {
      "cell_type": "markdown",
      "source": [
        "6. Log returns"
      ],
      "metadata": {
        "id": "7AbsEK7OcgCz"
      }
    },
    {
      "cell_type": "code",
      "source": [
        "from scipy import stats\n",
        "from scipy.stats import norm\n",
        "\n",
        "# 로그 변환 처리를 위해 함수를 만들기\n",
        "def log_return(series, periods=1):\n",
        "    return np.log(series).diff(periods=periods)\n",
        "\n",
        "def log(df):\n",
        "  log_df = pd.concat([log_return(df.VWAP, periods=5), log_return(df.VWAP, periods=1).abs()], axis=1)\n",
        "  log_df.columns = ['VAMP_5', 'VAMP_1']\n",
        "  dataframe = pd.concat([df, log_df], join='inner', axis=1)\n",
        "  return dataframe"
      ],
      "metadata": {
        "id": "4RQmFs2X156n"
      },
      "execution_count": null,
      "outputs": []
    },
    {
      "cell_type": "code",
      "source": [
        "# featuring\n",
        "def data_featuring(df):\n",
        "  feat_df = remove_nan(df)\n",
        "  feat_df = get_feature(df)\n",
        "  feat_df = timestamp_gap(feat_df)\n",
        "  feat_df = soaring_volume(feat_df)\n",
        "  feat_df = log(feat_df).copy()\n",
        "  feat_df = feat_df.drop(['Asset_ID', 'Open', 'High', 'Low', 'Close'], axis=1).fillna(0).copy()\n",
        "  return feat_df"
      ],
      "metadata": {
        "id": "sJIIhiLUNroQ"
      },
      "execution_count": null,
      "outputs": []
    },
    {
      "cell_type": "markdown",
      "source": [
        "# **IV. Scaling**"
      ],
      "metadata": {
        "id": "i9XljXglLkbr"
      }
    },
    {
      "cell_type": "code",
      "source": [
        "from sklearn.preprocessing import RobustScaler\n",
        "from sklearn.model_selection import train_test_split\n",
        "\n",
        "def rbst_scaler(df):\n",
        "  rbst_scaler = RobustScaler()\n",
        "  x = df.drop('Target', axis=1).copy()\n",
        "  y = df.Target\n",
        "  x = x.values\n",
        "  y = y.values.ravel()\n",
        "  x_rbst = rbst_scaler.fit_transform(x)\n",
        "  return x_rbst, y"
      ],
      "metadata": {
        "id": "ko_LWNYU0fEm"
      },
      "execution_count": null,
      "outputs": []
    },
    {
      "cell_type": "markdown",
      "source": [
        "# **V. Modeling**"
      ],
      "metadata": {
        "id": "Gp8gQcQH-wgh"
      }
    },
    {
      "cell_type": "code",
      "source": [
        "from lightgbm import LGBMRegressor\n",
        "from sklearn.model_selection import GridSearchCV, cross_val_score"
      ],
      "metadata": {
        "id": "K9VTgooNGRu7"
      },
      "execution_count": null,
      "outputs": []
    },
    {
      "cell_type": "code",
      "source": [
        "def grid_search_lgb(x, y, new_models, asset_id):\n",
        "  lgbm = LGBMRegressor()\n",
        "  lgb_param = {'num_leaves' : [10, 100],\n",
        "               'max_depth' : [3,5,8],\n",
        "               'num_leaves': [50, 100, 200],\n",
        "               'min_data_in_leaf': [100, 1000]\n",
        "               }\n",
        "  gsLGB = GridSearchCV(lgbm, param_grid=lgb_param, cv=5, scoring=\"neg_mean_squared_error\", n_jobs= 4, verbose = 1)\n",
        "  gsLGB.fit(x, y)\n",
        "  new_models[asset_id] = gsLGB.best_estimator_\n",
        "  print('최적 하이퍼 파라미터: ', gsLGB.best_params_)\n",
        "  print('최고 예측 정확도: {:.4f}'.format(gsLGB.best_score_))"
      ],
      "metadata": {
        "id": "7-2vMI4LHYAI"
      },
      "execution_count": null,
      "outputs": []
    },
    {
      "cell_type": "code",
      "source": [
        "new_models = {}\n",
        "\n",
        "for asset_id, asset_name in zip(asset_details['Asset_ID'], asset_details['Asset_Name']):\n",
        "  print(\"GridSearchCV for: \" + asset_name)\n",
        "  df = train.query(f'Asset_ID == {asset_id}').set_index(\"timestamp\")\n",
        "  feat_df = data_featuring(df)\n",
        "  x, y = rbst_scaler(feat_df)\n",
        "  grid_search_lgb(x, y, new_models, asset_id)"
      ],
      "metadata": {
        "colab": {
          "base_uri": "https://localhost:8080/"
        },
        "id": "i7wAaW7BMVgk",
        "outputId": "72297ff5-698b-4ff0-a052-85460bfc630f"
      },
      "execution_count": null,
      "outputs": [
        {
          "output_type": "stream",
          "name": "stdout",
          "text": [
            "GridSearchCV for: Binance Coin\n",
            "Fitting 5 folds for each of 18 candidates, totalling 90 fits\n",
            "최적 하이퍼 파라미터:  {'max_depth': 3, 'min_data_in_leaf': 100, 'num_leaves': 50}\n",
            "최고 예측 정확도: -0.0000\n",
            "GridSearchCV for: Bitcoin\n",
            "Fitting 5 folds for each of 18 candidates, totalling 90 fits\n",
            "최적 하이퍼 파라미터:  {'max_depth': 3, 'min_data_in_leaf': 1000, 'num_leaves': 50}\n",
            "최고 예측 정확도: -0.0000\n",
            "GridSearchCV for: Bitcoin Cash\n",
            "Fitting 5 folds for each of 18 candidates, totalling 90 fits\n",
            "최적 하이퍼 파라미터:  {'max_depth': 3, 'min_data_in_leaf': 1000, 'num_leaves': 50}\n",
            "최고 예측 정확도: -0.0000\n",
            "GridSearchCV for: Cardano\n",
            "Fitting 5 folds for each of 18 candidates, totalling 90 fits\n",
            "최적 하이퍼 파라미터:  {'max_depth': 3, 'min_data_in_leaf': 1000, 'num_leaves': 50}\n",
            "최고 예측 정확도: -0.0000\n",
            "GridSearchCV for: Dogecoin\n",
            "Fitting 5 folds for each of 18 candidates, totalling 90 fits\n",
            "최적 하이퍼 파라미터:  {'max_depth': 3, 'min_data_in_leaf': 1000, 'num_leaves': 50}\n",
            "최고 예측 정확도: -0.0001\n",
            "GridSearchCV for: EOS.IO\n",
            "Fitting 5 folds for each of 18 candidates, totalling 90 fits\n",
            "최적 하이퍼 파라미터:  {'max_depth': 3, 'min_data_in_leaf': 1000, 'num_leaves': 50}\n",
            "최고 예측 정확도: -0.0000\n",
            "GridSearchCV for: Ethereum\n",
            "Fitting 5 folds for each of 18 candidates, totalling 90 fits\n",
            "최적 하이퍼 파라미터:  {'max_depth': 3, 'min_data_in_leaf': 1000, 'num_leaves': 50}\n",
            "최고 예측 정확도: -0.0000\n",
            "GridSearchCV for: Ethereum Classic\n",
            "Fitting 5 folds for each of 18 candidates, totalling 90 fits\n",
            "최적 하이퍼 파라미터:  {'max_depth': 3, 'min_data_in_leaf': 1000, 'num_leaves': 50}\n",
            "최고 예측 정확도: -0.0001\n",
            "GridSearchCV for: IOTA\n",
            "Fitting 5 folds for each of 18 candidates, totalling 90 fits\n",
            "최적 하이퍼 파라미터:  {'max_depth': 3, 'min_data_in_leaf': 1000, 'num_leaves': 50}\n",
            "최고 예측 정확도: -0.0001\n",
            "GridSearchCV for: Litecoin\n",
            "Fitting 5 folds for each of 18 candidates, totalling 90 fits\n",
            "최적 하이퍼 파라미터:  {'max_depth': 3, 'min_data_in_leaf': 1000, 'num_leaves': 50}\n",
            "최고 예측 정확도: -0.0000\n",
            "GridSearchCV for: Maker\n"
          ]
        },
        {
          "output_type": "stream",
          "name": "stderr",
          "text": [
            "/usr/local/lib/python3.7/dist-packages/pandas/core/series.py:726: RuntimeWarning: invalid value encountered in log\n",
            "  result = getattr(ufunc, method)(*inputs, **kwargs)\n"
          ]
        },
        {
          "output_type": "stream",
          "name": "stdout",
          "text": [
            "Fitting 5 folds for each of 18 candidates, totalling 90 fits\n",
            "최적 하이퍼 파라미터:  {'max_depth': 3, 'min_data_in_leaf': 1000, 'num_leaves': 50}\n",
            "최고 예측 정확도: -0.0032\n",
            "GridSearchCV for: Monero\n",
            "Fitting 5 folds for each of 18 candidates, totalling 90 fits\n",
            "최적 하이퍼 파라미터:  {'max_depth': 3, 'min_data_in_leaf': 1000, 'num_leaves': 50}\n",
            "최고 예측 정확도: -0.0001\n",
            "GridSearchCV for: Stellar\n",
            "Fitting 5 folds for each of 18 candidates, totalling 90 fits\n",
            "최적 하이퍼 파라미터:  {'max_depth': 3, 'min_data_in_leaf': 1000, 'num_leaves': 50}\n",
            "최고 예측 정확도: -0.0000\n",
            "GridSearchCV for: TRON\n",
            "Fitting 5 folds for each of 18 candidates, totalling 90 fits\n",
            "최적 하이퍼 파라미터:  {'max_depth': 3, 'min_data_in_leaf': 1000, 'num_leaves': 50}\n",
            "최고 예측 정확도: -0.0000\n"
          ]
        }
      ]
    },
    {
      "cell_type": "code",
      "source": [
        "for asset_id, asset_name in zip(asset_details['Asset_ID'], asset_details['Asset_Name']):\n",
        "  print(f'Tuned model for {asset_name} (ID={asset_id})')\n",
        "  print(new_models[asset_id])"
      ],
      "metadata": {
        "id": "nPRcGNdDN9d2"
      },
      "execution_count": null,
      "outputs": []
    },
    {
      "cell_type": "markdown",
      "source": [
        "# **VI. Defining Train**"
      ],
      "metadata": {
        "id": "SiJxFMp5_7BT"
      }
    },
    {
      "cell_type": "code",
      "source": [
        "class training_step:\n",
        "\n",
        "  def __init__(self):\n",
        "    self.model = LGBMRegressor(objective='regression',\n",
        "                     metric='rmse',\n",
        "                     num_leaves=50,\n",
        "                     max_depth=3,\n",
        "                     min_data_in_leaf=1000)      # num_iteration=1000, early_stopping_rounds= 20\n",
        "\n",
        "  def all_featuring(self, df):\n",
        "    print('------crypto start featuring------')\n",
        "    crypto_df = data_featuring(df).copy()\n",
        "    x, y = rbst_scaler(crypto_df)\n",
        "    print('------crypto complete featuring------')\n",
        "    return x, y\n",
        "  \n",
        "  def training(self, df):\n",
        "    print('------crypto start training------')\n",
        "    x, y = self.all_featuring(df)\n",
        "    line = (len(x)*2)//3\n",
        "    x_train = x[:line]\n",
        "    x_test = x[line:]\n",
        "    y_train = y[:line]\n",
        "    y_test = y[line:]\n",
        "    self.model.fit(x_train, y_train, \n",
        "                   eval_metric=\"rmse\", verbose=True)\n",
        "    print('------crypto compelete training------')\n",
        "    print(f'model score : {self.model.score(x_test, y_test)}')\n",
        "    #LGBMRegressor.plot_metric(self.model)"
      ],
      "metadata": {
        "id": "Vqi3cUM8U3E1"
      },
      "execution_count": null,
      "outputs": []
    },
    {
      "cell_type": "markdown",
      "source": [
        "## **VII. Predict & Score**"
      ],
      "metadata": {
        "id": "Pa44Vr2-RYiT"
      }
    },
    {
      "cell_type": "code",
      "source": [
        "# maker -> ValueError: Input contains infinity or a value too large for dtype('float64').\n",
        "\n",
        "train_step = training_step()\n",
        "for id in asset_details['Asset_ID'].tolist():\n",
        "  df = train.query(f'Asset_ID == {id}').set_index(\"timestamp\")\n",
        "  df_name = asset_details[asset_details['Asset_ID'] == id].Asset_Name.tolist()[0]\n",
        "  print(f' training... {df_name}')\n",
        "  train_step.training(df)"
      ],
      "metadata": {
        "id": "StTb1CSqOb5S",
        "colab": {
          "base_uri": "https://localhost:8080/"
        },
        "outputId": "8dc04cae-8431-43e3-e012-aec47f2f6cbf"
      },
      "execution_count": null,
      "outputs": [
        {
          "output_type": "stream",
          "name": "stdout",
          "text": [
            " training... Bitcoin Cash\n",
            "------crypto start training------\n",
            "------crypto start featuring------\n",
            "------crypto complete featuring------\n",
            "------crypto compelete training------\n",
            "model score : -0.001882476707384395\n",
            " training... Binance Coin\n",
            "------crypto start training------\n",
            "------crypto start featuring------\n",
            "------crypto complete featuring------\n",
            "------crypto compelete training------\n",
            "model score : -1.4654840542118261\n",
            " training... Bitcoin\n",
            "------crypto start training------\n",
            "------crypto start featuring------\n",
            "------crypto complete featuring------\n",
            "------crypto compelete training------\n",
            "model score : -0.04929252412699103\n",
            " training... EOS.IO\n",
            "------crypto start training------\n",
            "------crypto start featuring------\n",
            "------crypto complete featuring------\n",
            "------crypto compelete training------\n",
            "model score : -0.003179625462986335\n",
            " training... Ethereum Classic\n",
            "------crypto start training------\n",
            "------crypto start featuring------\n",
            "------crypto complete featuring------\n",
            "------crypto compelete training------\n",
            "model score : -0.0072272200762377725\n",
            " training... Ethereum\n",
            "------crypto start training------\n",
            "------crypto start featuring------\n",
            "------crypto complete featuring------\n",
            "------crypto compelete training------\n",
            "model score : -0.005163343574719814\n",
            " training... Litecoin\n",
            "------crypto start training------\n",
            "------crypto start featuring------\n",
            "------crypto complete featuring------\n",
            "------crypto compelete training------\n",
            "model score : -0.0055064585285629075\n",
            " training... Monero\n",
            "------crypto start training------\n",
            "------crypto start featuring------\n",
            "------crypto complete featuring------\n",
            "------crypto compelete training------\n",
            "model score : -0.0054774824387806564\n",
            " training... TRON\n",
            "------crypto start training------\n",
            "------crypto start featuring------\n",
            "------crypto complete featuring------\n",
            "------crypto compelete training------\n",
            "model score : -0.025963459274890743\n",
            " training... Stellar\n",
            "------crypto start training------\n",
            "------crypto start featuring------\n",
            "------crypto complete featuring------\n",
            "------crypto compelete training------\n",
            "model score : -0.04816695503644275\n",
            " training... Cardano\n",
            "------crypto start training------\n",
            "------crypto start featuring------\n",
            "------crypto complete featuring------\n",
            "------crypto compelete training------\n",
            "model score : -0.08392873361442299\n",
            " training... IOTA\n",
            "------crypto start training------\n",
            "------crypto start featuring------\n",
            "------crypto complete featuring------\n",
            "------crypto compelete training------\n",
            "model score : -0.005969785009123152\n",
            " training... Maker\n",
            "------crypto start training------\n",
            "------crypto start featuring------\n"
          ]
        },
        {
          "output_type": "stream",
          "name": "stderr",
          "text": [
            "/usr/local/lib/python3.7/dist-packages/pandas/core/series.py:726: RuntimeWarning: invalid value encountered in log\n",
            "  result = getattr(ufunc, method)(*inputs, **kwargs)\n"
          ]
        },
        {
          "output_type": "stream",
          "name": "stdout",
          "text": [
            "------crypto complete featuring------\n",
            "------crypto compelete training------\n",
            "model score : -154.3344959938379\n",
            " training... Dogecoin\n",
            "------crypto start training------\n",
            "------crypto start featuring------\n",
            "------crypto complete featuring------\n",
            "------crypto compelete training------\n",
            "model score : -0.09190490673606888\n"
          ]
        }
      ]
    }
  ]
}
